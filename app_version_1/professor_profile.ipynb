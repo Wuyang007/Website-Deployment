{
 "cells": [
  {
   "cell_type": "code",
   "execution_count": 1,
   "metadata": {},
   "outputs": [],
   "source": [
    "import pandas as pd\n",
    "import plotly.graph_objects as go\n",
    "import altair as alt"
   ]
  },
  {
   "cell_type": "code",
   "execution_count": 3,
   "metadata": {},
   "outputs": [],
   "source": [
    "prof_df = pd.read_csv('../datasets/professor_profile.csv')"
   ]
  },
  {
   "cell_type": "code",
   "execution_count": 6,
   "metadata": {},
   "outputs": [
    {
     "data": {
      "text/html": [
       "<div>\n",
       "<style scoped>\n",
       "    .dataframe tbody tr th:only-of-type {\n",
       "        vertical-align: middle;\n",
       "    }\n",
       "\n",
       "    .dataframe tbody tr th {\n",
       "        vertical-align: top;\n",
       "    }\n",
       "\n",
       "    .dataframe thead th {\n",
       "        text-align: right;\n",
       "    }\n",
       "</style>\n",
       "<table border=\"1\" class=\"dataframe\">\n",
       "  <thead>\n",
       "    <tr style=\"text-align: right;\">\n",
       "      <th></th>\n",
       "      <th>Unnamed: 0</th>\n",
       "      <th>university_name</th>\n",
       "      <th>professor_name</th>\n",
       "      <th>ave_if</th>\n",
       "      <th>num_of_pub</th>\n",
       "      <th>overall_impact</th>\n",
       "      <th>impact_level</th>\n",
       "      <th>Community Contribution</th>\n",
       "    </tr>\n",
       "  </thead>\n",
       "  <tbody>\n",
       "    <tr>\n",
       "      <th>0</th>\n",
       "      <td>0</td>\n",
       "      <td>University of Pittsburgh</td>\n",
       "      <td>Miller C Mark</td>\n",
       "      <td>63.550000</td>\n",
       "      <td>0.2</td>\n",
       "      <td>35.885949</td>\n",
       "      <td>3</td>\n",
       "      <td>Tier 3</td>\n",
       "    </tr>\n",
       "    <tr>\n",
       "      <th>1</th>\n",
       "      <td>1</td>\n",
       "      <td>Georgia Institute of Technology</td>\n",
       "      <td>Ross Ethier</td>\n",
       "      <td>3.972043</td>\n",
       "      <td>9.3</td>\n",
       "      <td>52.149527</td>\n",
       "      <td>3</td>\n",
       "      <td>Tier 3</td>\n",
       "    </tr>\n",
       "    <tr>\n",
       "      <th>2</th>\n",
       "      <td>2</td>\n",
       "      <td>University of California Los Angeles</td>\n",
       "      <td>Joseph Distefano</td>\n",
       "      <td>15.740000</td>\n",
       "      <td>0.5</td>\n",
       "      <td>15.675663</td>\n",
       "      <td>1</td>\n",
       "      <td>Tier 5</td>\n",
       "    </tr>\n",
       "    <tr>\n",
       "      <th>3</th>\n",
       "      <td>3</td>\n",
       "      <td>Massachusetts Institute of Technology</td>\n",
       "      <td>Bruce Tidor</td>\n",
       "      <td>10.200000</td>\n",
       "      <td>1.0</td>\n",
       "      <td>18.228470</td>\n",
       "      <td>2</td>\n",
       "      <td>Tier 4</td>\n",
       "    </tr>\n",
       "    <tr>\n",
       "      <th>4</th>\n",
       "      <td>4</td>\n",
       "      <td>Massachusetts Institute of Technology</td>\n",
       "      <td>James J Collins</td>\n",
       "      <td>21.725000</td>\n",
       "      <td>12.4</td>\n",
       "      <td>581.596008</td>\n",
       "      <td>5</td>\n",
       "      <td>Tier 1</td>\n",
       "    </tr>\n",
       "  </tbody>\n",
       "</table>\n",
       "</div>"
      ],
      "text/plain": [
       "   Unnamed: 0                        university_name    professor_name  \\\n",
       "0           0               University of Pittsburgh     Miller C Mark   \n",
       "1           1        Georgia Institute of Technology       Ross Ethier   \n",
       "2           2   University of California Los Angeles  Joseph Distefano   \n",
       "3           3  Massachusetts Institute of Technology       Bruce Tidor   \n",
       "4           4  Massachusetts Institute of Technology   James J Collins   \n",
       "\n",
       "      ave_if  num_of_pub  overall_impact  impact_level Community Contribution  \n",
       "0  63.550000         0.2       35.885949             3                 Tier 3  \n",
       "1   3.972043         9.3       52.149527             3                 Tier 3  \n",
       "2  15.740000         0.5       15.675663             1                 Tier 5  \n",
       "3  10.200000         1.0       18.228470             2                 Tier 4  \n",
       "4  21.725000        12.4      581.596008             5                 Tier 1  "
      ]
     },
     "execution_count": 6,
     "metadata": {},
     "output_type": "execute_result"
    }
   ],
   "source": [
    "prof_df.head()"
   ]
  },
  {
   "cell_type": "code",
   "execution_count": 8,
   "metadata": {},
   "outputs": [],
   "source": [
    "uot_df = prof_df[prof_df['university_name']=='University of Toronto']"
   ]
  },
  {
   "cell_type": "code",
   "execution_count": 9,
   "metadata": {},
   "outputs": [
    {
     "data": {
      "text/html": [
       "<div>\n",
       "<style scoped>\n",
       "    .dataframe tbody tr th:only-of-type {\n",
       "        vertical-align: middle;\n",
       "    }\n",
       "\n",
       "    .dataframe tbody tr th {\n",
       "        vertical-align: top;\n",
       "    }\n",
       "\n",
       "    .dataframe thead th {\n",
       "        text-align: right;\n",
       "    }\n",
       "</style>\n",
       "<table border=\"1\" class=\"dataframe\">\n",
       "  <thead>\n",
       "    <tr style=\"text-align: right;\">\n",
       "      <th></th>\n",
       "      <th>Unnamed: 0</th>\n",
       "      <th>university_name</th>\n",
       "      <th>professor_name</th>\n",
       "      <th>ave_if</th>\n",
       "      <th>num_of_pub</th>\n",
       "      <th>overall_impact</th>\n",
       "      <th>impact_level</th>\n",
       "      <th>Community Contribution</th>\n",
       "    </tr>\n",
       "  </thead>\n",
       "  <tbody>\n",
       "    <tr>\n",
       "      <th>14</th>\n",
       "      <td>14</td>\n",
       "      <td>University of Toronto</td>\n",
       "      <td>Aaron Wheeler</td>\n",
       "      <td>8.726866</td>\n",
       "      <td>6.7</td>\n",
       "      <td>100.495743</td>\n",
       "      <td>4</td>\n",
       "      <td>Tier 2</td>\n",
       "    </tr>\n",
       "    <tr>\n",
       "      <th>52</th>\n",
       "      <td>52</td>\n",
       "      <td>University of Toronto</td>\n",
       "      <td>Patricia Trbovich</td>\n",
       "      <td>3.482353</td>\n",
       "      <td>5.1</td>\n",
       "      <td>24.261137</td>\n",
       "      <td>2</td>\n",
       "      <td>Tier 4</td>\n",
       "    </tr>\n",
       "    <tr>\n",
       "      <th>54</th>\n",
       "      <td>54</td>\n",
       "      <td>University of Toronto</td>\n",
       "      <td>Sara S Nunes</td>\n",
       "      <td>9.717241</td>\n",
       "      <td>2.9</td>\n",
       "      <td>49.753855</td>\n",
       "      <td>3</td>\n",
       "      <td>Tier 3</td>\n",
       "    </tr>\n",
       "    <tr>\n",
       "      <th>65</th>\n",
       "      <td>65</td>\n",
       "      <td>University of Toronto</td>\n",
       "      <td>Axel Gunther</td>\n",
       "      <td>8.722222</td>\n",
       "      <td>0.9</td>\n",
       "      <td>13.490450</td>\n",
       "      <td>1</td>\n",
       "      <td>Tier 5</td>\n",
       "    </tr>\n",
       "    <tr>\n",
       "      <th>112</th>\n",
       "      <td>112</td>\n",
       "      <td>University of Toronto</td>\n",
       "      <td>Hani Naguib</td>\n",
       "      <td>6.926087</td>\n",
       "      <td>4.6</td>\n",
       "      <td>51.685385</td>\n",
       "      <td>3</td>\n",
       "      <td>Tier 3</td>\n",
       "    </tr>\n",
       "  </tbody>\n",
       "</table>\n",
       "</div>"
      ],
      "text/plain": [
       "     Unnamed: 0        university_name     professor_name    ave_if  \\\n",
       "14           14  University of Toronto      Aaron Wheeler  8.726866   \n",
       "52           52  University of Toronto  Patricia Trbovich  3.482353   \n",
       "54           54  University of Toronto       Sara S Nunes  9.717241   \n",
       "65           65  University of Toronto       Axel Gunther  8.722222   \n",
       "112         112  University of Toronto        Hani Naguib  6.926087   \n",
       "\n",
       "     num_of_pub  overall_impact  impact_level Community Contribution  \n",
       "14          6.7      100.495743             4                 Tier 2  \n",
       "52          5.1       24.261137             2                 Tier 4  \n",
       "54          2.9       49.753855             3                 Tier 3  \n",
       "65          0.9       13.490450             1                 Tier 5  \n",
       "112         4.6       51.685385             3                 Tier 3  "
      ]
     },
     "execution_count": 9,
     "metadata": {},
     "output_type": "execute_result"
    }
   ],
   "source": [
    "uot_df.head()"
   ]
  },
  {
   "cell_type": "code",
   "execution_count": 36,
   "metadata": {},
   "outputs": [
    {
     "name": "stderr",
     "output_type": "stream",
     "text": [
      "/var/folders/yw/d34pj4ns3r75s0xjlqh337j00000gn/T/ipykernel_1917/150467260.py:1: SettingWithCopyWarning: \n",
      "A value is trying to be set on a copy of a slice from a DataFrame.\n",
      "Try using .loc[row_indexer,col_indexer] = value instead\n",
      "\n",
      "See the caveats in the documentation: https://pandas.pydata.org/pandas-docs/stable/user_guide/indexing.html#returning-a-view-versus-a-copy\n",
      "  uot_df['opacity']=0.2\n"
     ]
    }
   ],
   "source": [
    "uot_df['opacity']=0.2"
   ]
  },
  {
   "cell_type": "code",
   "execution_count": 37,
   "metadata": {},
   "outputs": [],
   "source": [
    "uot_df.loc[uot_df['professor_name']=='Axel Gunther', 'opacity']=1"
   ]
  },
  {
   "cell_type": "code",
   "execution_count": 41,
   "metadata": {},
   "outputs": [
    {
     "data": {
      "text/html": [
       "\n",
       "<style>\n",
       "  #altair-viz-ae601d19629f411b80ae314ded9a9cdd.vega-embed {\n",
       "    width: 100%;\n",
       "    display: flex;\n",
       "  }\n",
       "\n",
       "  #altair-viz-ae601d19629f411b80ae314ded9a9cdd.vega-embed details,\n",
       "  #altair-viz-ae601d19629f411b80ae314ded9a9cdd.vega-embed details summary {\n",
       "    position: relative;\n",
       "  }\n",
       "</style>\n",
       "<div id=\"altair-viz-ae601d19629f411b80ae314ded9a9cdd\"></div>\n",
       "<script type=\"text/javascript\">\n",
       "  var VEGA_DEBUG = (typeof VEGA_DEBUG == \"undefined\") ? {} : VEGA_DEBUG;\n",
       "  (function(spec, embedOpt){\n",
       "    let outputDiv = document.currentScript.previousElementSibling;\n",
       "    if (outputDiv.id !== \"altair-viz-ae601d19629f411b80ae314ded9a9cdd\") {\n",
       "      outputDiv = document.getElementById(\"altair-viz-ae601d19629f411b80ae314ded9a9cdd\");\n",
       "    }\n",
       "    const paths = {\n",
       "      \"vega\": \"https://cdn.jsdelivr.net/npm/vega@5?noext\",\n",
       "      \"vega-lib\": \"https://cdn.jsdelivr.net/npm/vega-lib?noext\",\n",
       "      \"vega-lite\": \"https://cdn.jsdelivr.net/npm/vega-lite@5.17.0?noext\",\n",
       "      \"vega-embed\": \"https://cdn.jsdelivr.net/npm/vega-embed@6?noext\",\n",
       "    };\n",
       "\n",
       "    function maybeLoadScript(lib, version) {\n",
       "      var key = `${lib.replace(\"-\", \"\")}_version`;\n",
       "      return (VEGA_DEBUG[key] == version) ?\n",
       "        Promise.resolve(paths[lib]) :\n",
       "        new Promise(function(resolve, reject) {\n",
       "          var s = document.createElement('script');\n",
       "          document.getElementsByTagName(\"head\")[0].appendChild(s);\n",
       "          s.async = true;\n",
       "          s.onload = () => {\n",
       "            VEGA_DEBUG[key] = version;\n",
       "            return resolve(paths[lib]);\n",
       "          };\n",
       "          s.onerror = () => reject(`Error loading script: ${paths[lib]}`);\n",
       "          s.src = paths[lib];\n",
       "        });\n",
       "    }\n",
       "\n",
       "    function showError(err) {\n",
       "      outputDiv.innerHTML = `<div class=\"error\" style=\"color:red;\">${err}</div>`;\n",
       "      throw err;\n",
       "    }\n",
       "\n",
       "    function displayChart(vegaEmbed) {\n",
       "      vegaEmbed(outputDiv, spec, embedOpt)\n",
       "        .catch(err => showError(`Javascript Error: ${err.message}<br>This usually means there's a typo in your chart specification. See the javascript console for the full traceback.`));\n",
       "    }\n",
       "\n",
       "    if(typeof define === \"function\" && define.amd) {\n",
       "      requirejs.config({paths});\n",
       "      require([\"vega-embed\"], displayChart, err => showError(`Error loading script: ${err.message}`));\n",
       "    } else {\n",
       "      maybeLoadScript(\"vega\", \"5\")\n",
       "        .then(() => maybeLoadScript(\"vega-lite\", \"5.17.0\"))\n",
       "        .then(() => maybeLoadScript(\"vega-embed\", \"6\"))\n",
       "        .catch(showError)\n",
       "        .then(() => displayChart(vegaEmbed));\n",
       "    }\n",
       "  })({\"config\": {\"view\": {\"continuousWidth\": 300, \"continuousHeight\": 300}}, \"data\": {\"name\": \"data-d24ac41fccb53f6ff5b8779072fc219c\"}, \"mark\": {\"type\": \"bar\"}, \"encoding\": {\"color\": {\"field\": \"Community Contribution\", \"type\": \"nominal\"}, \"opacity\": {\"field\": \"opacity\", \"type\": \"quantitative\"}, \"tooltip\": [{\"field\": \"professor_name\", \"title\": \"Professor name\", \"type\": \"nominal\"}, {\"field\": \"num_of_pub\", \"title\": \"Publication per year\", \"type\": \"quantitative\"}, {\"field\": \"overall_impact\", \"format\": \".2f\", \"title\": \"Overall contribution\", \"type\": \"quantitative\"}, {\"field\": \"ave_if\", \"format\": \".2f\", \"title\": \"Average impact factor\", \"type\": \"quantitative\"}, {\"field\": \"Community Contribution\", \"title\": \"Community Contribution\", \"type\": \"nominal\"}], \"x\": {\"axis\": null, \"field\": \"professor_name\", \"sort\": \"-y\", \"type\": \"nominal\"}, \"y\": {\"field\": \"overall_impact\", \"type\": \"quantitative\"}}, \"$schema\": \"https://vega.github.io/schema/vega-lite/v5.17.0.json\", \"datasets\": {\"data-d24ac41fccb53f6ff5b8779072fc219c\": [{\"Unnamed: 0\": 14, \"university_name\": \"University of Toronto\", \"professor_name\": \"Aaron Wheeler\", \"ave_if\": 8.72686567164179, \"num_of_pub\": 6.7, \"overall_impact\": 100.4957432755797, \"impact_level\": 4, \"Community Contribution\": \"Tier 2\", \"opacity\": 0.2}, {\"Unnamed: 0\": 52, \"university_name\": \"University of Toronto\", \"professor_name\": \"Patricia Trbovich\", \"ave_if\": 3.4823529411764707, \"num_of_pub\": 5.1, \"overall_impact\": 24.26113742053197, \"impact_level\": 2, \"Community Contribution\": \"Tier 4\", \"opacity\": 0.2}, {\"Unnamed: 0\": 54, \"university_name\": \"University of Toronto\", \"professor_name\": \"Sara S Nunes\", \"ave_if\": 9.717241379310344, \"num_of_pub\": 2.9, \"overall_impact\": 49.753855039816486, \"impact_level\": 3, \"Community Contribution\": \"Tier 3\", \"opacity\": 0.2}, {\"Unnamed: 0\": 65, \"university_name\": \"University of Toronto\", \"professor_name\": \"Axel Gunther\", \"ave_if\": 8.722222222222221, \"num_of_pub\": 0.9, \"overall_impact\": 13.490450215186987, \"impact_level\": 1, \"Community Contribution\": \"Tier 5\", \"opacity\": 1.0}, {\"Unnamed: 0\": 112, \"university_name\": \"University of Toronto\", \"professor_name\": \"Hani Naguib\", \"ave_if\": 6.926086956521738, \"num_of_pub\": 4.6, \"overall_impact\": 51.68538509128624, \"impact_level\": 3, \"Community Contribution\": \"Tier 3\", \"opacity\": 0.2}, {\"Unnamed: 0\": 118, \"university_name\": \"University of Toronto\", \"professor_name\": \"Caitlin Maikawa\", \"ave_if\": 6.466666666666666, \"num_of_pub\": 0.3, \"overall_impact\": 3.0936547761209976, \"impact_level\": 0, \"Community Contribution\": \"Tier 6\", \"opacity\": 0.2}, {\"Unnamed: 0\": 186, \"university_name\": \"University of Toronto\", \"professor_name\": \"Edmond Young\", \"ave_if\": 5.499999999999999, \"num_of_pub\": 2.8, \"overall_impact\": 23.583670214787645, \"impact_level\": 2, \"Community Contribution\": \"Tier 4\", \"opacity\": 0.2}, {\"Unnamed: 0\": 230, \"university_name\": \"University of Toronto\", \"professor_name\": \"Tom Chau\", \"ave_if\": 3.21551724137931, \"num_of_pub\": 5.8, \"overall_impact\": 24.974197783156203, \"impact_level\": 2, \"Community Contribution\": \"Tier 4\", \"opacity\": 0.2}, {\"Unnamed: 0\": 242, \"university_name\": \"University of Toronto\", \"professor_name\": \"Kei Masani\", \"ave_if\": 2.3921052631578945, \"num_of_pub\": 7.6, \"overall_impact\": 22.609395480525823, \"impact_level\": 2, \"Community Contribution\": \"Tier 4\", \"opacity\": 0.2}, {\"Unnamed: 0\": 259, \"university_name\": \"University of Toronto\", \"professor_name\": \"Paul Santerre\", \"ave_if\": 6.181538461538461, \"num_of_pub\": 6.5, \"overall_impact\": 63.35546406169299, \"impact_level\": 4, \"Community Contribution\": \"Tier 2\", \"opacity\": 0.2}, {\"Unnamed: 0\": 303, \"university_name\": \"University of Toronto\", \"professor_name\": \"Marc Grynpas\", \"ave_if\": 4.903703703703704, \"num_of_pub\": 5.4, \"overall_impact\": 39.40479169144967, \"impact_level\": 3, \"Community Contribution\": \"Tier 3\", \"opacity\": 0.2}, {\"Unnamed: 0\": 325, \"university_name\": \"University of Toronto\", \"professor_name\": \"Karina Carneiro\", \"ave_if\": 9.06, \"num_of_pub\": 1.0, \"overall_impact\": 15.71846915196538, \"impact_level\": 1, \"Community Contribution\": \"Tier 5\", \"opacity\": 0.2}, {\"Unnamed: 0\": 327, \"university_name\": \"University of Toronto\", \"professor_name\": \"Berj Bardakjian\", \"ave_if\": 4.4, \"num_of_pub\": 1.8, \"overall_impact\": 11.47065851064011, \"impact_level\": 1, \"Community Contribution\": \"Tier 5\", \"opacity\": 0.2}, {\"Unnamed: 0\": 359, \"university_name\": \"University of Toronto\", \"professor_name\": \"Dawn Kilkenny\", \"ave_if\": 3.616666666666667, \"num_of_pub\": 0.6, \"overall_impact\": 2.992518574301555, \"impact_level\": 0, \"Community Contribution\": \"Tier 6\", \"opacity\": 0.2}, {\"Unnamed: 0\": 373, \"university_name\": \"University of Toronto\", \"professor_name\": \"Molly Shoichet\", \"ave_if\": 6.832631578947367, \"num_of_pub\": 9.5, \"overall_impact\": 104.94424080516885, \"impact_level\": 4, \"Community Contribution\": \"Tier 2\", \"opacity\": 0.2}, {\"Unnamed: 0\": 407, \"university_name\": \"University of Toronto\", \"professor_name\": \"Alison McGuigan\", \"ave_if\": 8.865217391304348, \"num_of_pub\": 4.6, \"overall_impact\": 70.36708636096213, \"impact_level\": 4, \"Community Contribution\": \"Tier 2\", \"opacity\": 0.2}, {\"Unnamed: 0\": 415, \"university_name\": \"University of Toronto\", \"professor_name\": \"Radhakrishnan Mahadevan\", \"ave_if\": 6.122784810126582, \"num_of_pub\": 7.9, \"overall_impact\": 76.08750379336738, \"impact_level\": 4, \"Community Contribution\": \"Tier 2\", \"opacity\": 0.2}, {\"Unnamed: 0\": 445, \"university_name\": \"University of Toronto\", \"professor_name\": \"Leo Chou\", \"ave_if\": 14.330000000000002, \"num_of_pub\": 1.0, \"overall_impact\": 27.88096094000882, \"impact_level\": 2, \"Community Contribution\": \"Tier 4\", \"opacity\": 0.2}, {\"Unnamed: 0\": 490, \"university_name\": \"University of Toronto\", \"professor_name\": \"Elaine Biddiss\", \"ave_if\": 3.1192307692307697, \"num_of_pub\": 2.6, \"overall_impact\": 10.777864784274254, \"impact_level\": 1, \"Community Contribution\": \"Tier 5\", \"opacity\": 0.2}, {\"Unnamed: 0\": 499, \"university_name\": \"University of Toronto\", \"professor_name\": \"Piero Triverio\", \"ave_if\": 2.4, \"num_of_pub\": 0.5, \"overall_impact\": 1.4935991454923478, \"impact_level\": 0, \"Community Contribution\": \"Tier 6\", \"opacity\": 0.2}, {\"Unnamed: 0\": 510, \"university_name\": \"University of Toronto\", \"professor_name\": \"Bowen Li\", \"ave_if\": 15.57, \"num_of_pub\": 1.0, \"overall_impact\": 30.92863588131187, \"impact_level\": 2, \"Community Contribution\": \"Tier 4\", \"opacity\": 0.2}, {\"Unnamed: 0\": 522, \"university_name\": \"University of Toronto\", \"professor_name\": \"Warren Chan\", \"ave_if\": 12.9, \"num_of_pub\": 8.1, \"overall_impact\": 198.0259734017222, \"impact_level\": 5, \"Community Contribution\": \"Tier 1\", \"opacity\": 0.2}, {\"Unnamed: 0\": 533, \"university_name\": \"University of Toronto\", \"professor_name\": \"Masoom Haider\", \"ave_if\": 6.653781512605042, \"num_of_pub\": 11.9, \"overall_impact\": 127.16940268842151, \"impact_level\": 5, \"Community Contribution\": \"Tier 1\", \"opacity\": 0.2}, {\"Unnamed: 0\": 545, \"university_name\": \"University of Toronto\", \"professor_name\": \"Anton Zilman\", \"ave_if\": 7.731034482758622, \"num_of_pub\": 2.9, \"overall_impact\": 37.384795630036464, \"impact_level\": 3, \"Community Contribution\": \"Tier 3\", \"opacity\": 0.2}, {\"Unnamed: 0\": 583, \"university_name\": \"University of Toronto\", \"professor_name\": \"Robert Weersink\", \"ave_if\": 4.063414634146342, \"num_of_pub\": 4.1, \"overall_impact\": 23.65362907665468, \"impact_level\": 2, \"Community Contribution\": \"Tier 4\", \"opacity\": 0.2}, {\"Unnamed: 0\": 624, \"university_name\": \"University of Toronto\", \"professor_name\": \"Ofer Levi\", \"ave_if\": 2.9, \"num_of_pub\": 0.4, \"overall_impact\": 1.5137616157767564, \"impact_level\": 0, \"Community Contribution\": \"Tier 6\", \"opacity\": 0.2}, {\"Unnamed: 0\": 633, \"university_name\": \"University of Toronto\", \"professor_name\": \"Steven Prescott\", \"ave_if\": 8.247222222222222, \"num_of_pub\": 3.6, \"overall_impact\": 50.31380031445013, \"impact_level\": 3, \"Community Contribution\": \"Tier 3\", \"opacity\": 0.2}, {\"Unnamed: 0\": 665, \"university_name\": \"University of Toronto\", \"professor_name\": \"Hai-Ling Margaret Cheng\", \"ave_if\": 4.186111111111113, \"num_of_pub\": 3.6, \"overall_impact\": 21.55588908089625, \"impact_level\": 2, \"Community Contribution\": \"Tier 4\", \"opacity\": 0.2}, {\"Unnamed: 0\": 679, \"university_name\": \"University of Toronto\", \"professor_name\": \"Andreas Mandelis\", \"ave_if\": 2.7181818181818183, \"num_of_pub\": 8.8, \"overall_impact\": 30.71360545904386, \"impact_level\": 2, \"Community Contribution\": \"Tier 4\", \"opacity\": 0.2}, {\"Unnamed: 0\": 692, \"university_name\": \"University of Toronto\", \"professor_name\": \"Cari Whyne\", \"ave_if\": 3.172043010752688, \"num_of_pub\": 9.3, \"overall_impact\": 39.36921749700955, \"impact_level\": 3, \"Community Contribution\": \"Tier 3\", \"opacity\": 0.2}, {\"Unnamed: 0\": 704, \"university_name\": \"University of Toronto\", \"professor_name\": \"Douglas Cheyne\", \"ave_if\": 3.008, \"num_of_pub\": 2.5, \"overall_impact\": 9.903467907447943, \"impact_level\": 1, \"Community Contribution\": \"Tier 5\", \"opacity\": 0.2}, {\"Unnamed: 0\": 721, \"university_name\": \"University of Toronto\", \"professor_name\": \"Jean Chen\", \"ave_if\": 3.444262295081967, \"num_of_pub\": 6.1, \"overall_impact\": 28.62200852614118, \"impact_level\": 2, \"Community Contribution\": \"Tier 4\", \"opacity\": 0.2}, {\"Unnamed: 0\": 728, \"university_name\": \"University of Toronto\", \"professor_name\": \"Hagar Labouta\", \"ave_if\": 15.5, \"num_of_pub\": 0.2, \"overall_impact\": 6.150984298031231, \"impact_level\": 0, \"Community Contribution\": \"Tier 6\", \"opacity\": 0.2}, {\"Unnamed: 0\": 732, \"university_name\": \"University of Toronto\", \"professor_name\": \"Eugenia Kumacheva\", \"ave_if\": 10.559036144578313, \"num_of_pub\": 8.3, \"overall_impact\": 157.9823020969366, \"impact_level\": 5, \"Community Contribution\": \"Tier 1\", \"opacity\": 0.2}, {\"Unnamed: 0\": 759, \"university_name\": \"University of Toronto\", \"professor_name\": \"Cristina Amon \", \"ave_if\": 4.407692307692307, \"num_of_pub\": 2.6, \"overall_impact\": 16.60494475563338, \"impact_level\": 1, \"Community Contribution\": \"Tier 5\", \"opacity\": 0.2}, {\"Unnamed: 0\": 772, \"university_name\": \"University of Toronto\", \"professor_name\": \"David Steinman\", \"ave_if\": 3.620512820512821, \"num_of_pub\": 3.9, \"overall_impact\": 19.477231184591677, \"impact_level\": 2, \"Community Contribution\": \"Tier 4\", \"opacity\": 0.2}, {\"Unnamed: 0\": 848, \"university_name\": \"University of Toronto\", \"professor_name\": \"Naomi Matsuura\", \"ave_if\": 4.841666666666667, \"num_of_pub\": 1.2, \"overall_impact\": 8.618364421451842, \"impact_level\": 1, \"Community Contribution\": \"Tier 5\", \"opacity\": 0.2}, {\"Unnamed: 0\": 867, \"university_name\": \"University of Toronto\", \"professor_name\": \"Jayson Parker\", \"ave_if\": 3.008333333333333, \"num_of_pub\": 1.2, \"overall_impact\": 4.754323079955729, \"impact_level\": 0, \"Community Contribution\": \"Tier 6\", \"opacity\": 0.2}, {\"Unnamed: 0\": 869, \"university_name\": \"University of Toronto\", \"professor_name\": \"Penney Gilbert\", \"ave_if\": 10.033333333333331, \"num_of_pub\": 3.0, \"overall_impact\": 53.57075976907191, \"impact_level\": 3, \"Community Contribution\": \"Tier 3\", \"opacity\": 0.2}, {\"Unnamed: 0\": 912, \"university_name\": \"University of Toronto\", \"professor_name\": \"John Griffiths\", \"ave_if\": 5.328571428571429, \"num_of_pub\": 2.1, \"overall_impact\": 17.001325587005052, \"impact_level\": 1, \"Community Contribution\": \"Tier 5\", \"opacity\": 0.2}, {\"Unnamed: 0\": 913, \"university_name\": \"University of Toronto\", \"professor_name\": \"Julie Audet\", \"ave_if\": 7.637499999999999, \"num_of_pub\": 0.8, \"overall_impact\": 10.157317221781328, \"impact_level\": 1, \"Community Contribution\": \"Tier 5\", \"opacity\": 0.2}, {\"Unnamed: 0\": 914, \"university_name\": \"University of Toronto\", \"professor_name\": \"Willy Wong\", \"ave_if\": 4.742105263157894, \"num_of_pub\": 1.9, \"overall_impact\": 13.295895359151547, \"impact_level\": 1, \"Community Contribution\": \"Tier 5\", \"opacity\": 0.2}, {\"Unnamed: 0\": 939, \"university_name\": \"University of Toronto\", \"professor_name\": \"Michael Garton\", \"ave_if\": 10.1, \"num_of_pub\": 1.2, \"overall_impact\": 21.60642742942075, \"impact_level\": 2, \"Community Contribution\": \"Tier 4\", \"opacity\": 0.2}, {\"Unnamed: 0\": 970, \"university_name\": \"University of Toronto\", \"professor_name\": \"Omar Khan\", \"ave_if\": 4.923809523809524, \"num_of_pub\": 2.1, \"overall_impact\": 15.402664287967704, \"impact_level\": 1, \"Community Contribution\": \"Tier 5\", \"opacity\": 0.2}, {\"Unnamed: 0\": 983, \"university_name\": \"University of Toronto\", \"professor_name\": \"Yu Sun\", \"ave_if\": 8.725, \"num_of_pub\": 12.4, \"overall_impact\": 185.9424203398148, \"impact_level\": 5, \"Community Contribution\": \"Tier 1\", \"opacity\": 0.2}, {\"Unnamed: 0\": 984, \"university_name\": \"University of Toronto\", \"professor_name\": \"Azadeh Kushki\", \"ave_if\": 7.0666666666666655, \"num_of_pub\": 2.1, \"overall_impact\": 24.195664421882267, \"impact_level\": 2, \"Community Contribution\": \"Tier 4\", \"opacity\": 0.2}, {\"Unnamed: 0\": 991, \"university_name\": \"University of Toronto\", \"professor_name\": \"Xinyu Liu\", \"ave_if\": 7.859523809523809, \"num_of_pub\": 4.2, \"overall_impact\": 55.2706513698456, \"impact_level\": 3, \"Community Contribution\": \"Tier 3\", \"opacity\": 0.2}, {\"Unnamed: 0\": 996, \"university_name\": \"University of Toronto\", \"professor_name\": \"Benjamin Hatton\", \"ave_if\": 9.27777777777778, \"num_of_pub\": 2.7, \"overall_impact\": 43.71884921086502, \"impact_level\": 3, \"Community Contribution\": \"Tier 3\", \"opacity\": 0.2}, {\"Unnamed: 0\": 1012, \"university_name\": \"University of Toronto\", \"professor_name\": \"Rita Kandel\", \"ave_if\": 5.088461538461538, \"num_of_pub\": 5.2, \"overall_impact\": 39.74078705205565, \"impact_level\": 3, \"Community Contribution\": \"Tier 3\", \"opacity\": 0.2}, {\"Unnamed: 0\": 1017, \"university_name\": \"University of Toronto\", \"professor_name\": \"Lueder Kahrs\", \"ave_if\": 4.4, \"num_of_pub\": 0.4, \"overall_impact\": 2.5490352245866914, \"impact_level\": 0, \"Community Contribution\": \"Tier 6\", \"opacity\": 0.2}, {\"Unnamed: 0\": 1048, \"university_name\": \"University of Toronto\", \"professor_name\": \"Babak Taati \", \"ave_if\": 3.3065217391304347, \"num_of_pub\": 4.6, \"overall_impact\": 20.51030221463483, \"impact_level\": 2, \"Community Contribution\": \"Tier 4\", \"opacity\": 0.2}, {\"Unnamed: 0\": 1053, \"university_name\": \"University of Toronto\", \"professor_name\": \"Jason Moffat\", \"ave_if\": 16.005042016806723, \"num_of_pub\": 11.9, \"overall_impact\": 380.95000590814806, \"impact_level\": 5, \"Community Contribution\": \"Tier 1\", \"opacity\": 0.2}, {\"Unnamed: 0\": 1086, \"university_name\": \"University of Toronto\", \"professor_name\": \"Milos Popovic\", \"ave_if\": 3.2592, \"num_of_pub\": 12.5, \"overall_impact\": 54.73924179104082, \"impact_level\": 3, \"Community Contribution\": \"Tier 3\", \"opacity\": 0.2}, {\"Unnamed: 0\": 1106, \"university_name\": \"University of Toronto\", \"professor_name\": \"Eli Sone\", \"ave_if\": 5.5625, \"num_of_pub\": 1.6, \"overall_impact\": 13.668080017601262, \"impact_level\": 1, \"Community Contribution\": \"Tier 5\", \"opacity\": 0.2}, {\"Unnamed: 0\": 1112, \"university_name\": \"University of Toronto\", \"professor_name\": \"Chung-Wai Chow\", \"ave_if\": 9.470212765957449, \"num_of_pub\": 4.7, \"overall_impact\": 78.0813886261754, \"impact_level\": 4, \"Community Contribution\": \"Tier 2\", \"opacity\": 0.2}, {\"Unnamed: 0\": 1175, \"university_name\": \"University of Toronto\", \"professor_name\": \"Jonathan Rocheleau\", \"ave_if\": 7.4125, \"num_of_pub\": 2.4, \"overall_impact\": 29.353988832851037, \"impact_level\": 2, \"Community Contribution\": \"Tier 4\", \"opacity\": 0.2}, {\"Unnamed: 0\": 1198, \"university_name\": \"University of Toronto\", \"professor_name\": \"Boris Hinz\", \"ave_if\": 9.402597402597404, \"num_of_pub\": 7.7, \"overall_impact\": 126.77993549037892, \"impact_level\": 5, \"Community Contribution\": \"Tier 1\", \"opacity\": 0.2}, {\"Unnamed: 0\": 1202, \"university_name\": \"University of Toronto\", \"professor_name\": \"Yoav Finer\", \"ave_if\": 4.88, \"num_of_pub\": 3.0, \"overall_impact\": 21.75935572883232, \"impact_level\": 2, \"Community Contribution\": \"Tier 4\", \"opacity\": 0.2}, {\"Unnamed: 0\": 1206, \"university_name\": \"University of Toronto\", \"professor_name\": \"Robert Harrison\", \"ave_if\": 6.053571428571429, \"num_of_pub\": 2.8, \"overall_impact\": 26.587201090685998, \"impact_level\": 2, \"Community Contribution\": \"Tier 4\", \"opacity\": 0.2}, {\"Unnamed: 0\": 1220, \"university_name\": \"University of Toronto\", \"professor_name\": \"Frank Gu\", \"ave_if\": 6.33, \"num_of_pub\": 2.0, \"overall_impact\": 20.08096749641223, \"impact_level\": 2, \"Community Contribution\": \"Tier 4\", \"opacity\": 0.2}, {\"Unnamed: 0\": 1230, \"university_name\": \"University of Toronto\", \"professor_name\": \"Cindi Morshead\", \"ave_if\": 6.131666666666666, \"num_of_pub\": 6.0, \"overall_impact\": 57.89278231802992, \"impact_level\": 4, \"Community Contribution\": \"Tier 2\", \"opacity\": 0.2}, {\"Unnamed: 0\": 1261, \"university_name\": \"University of Toronto\", \"professor_name\": \"Rodrigo Fernandez-Gonzalez\", \"ave_if\": 6.725581395348838, \"num_of_pub\": 4.3, \"overall_impact\": 46.57262820293317, \"impact_level\": 3, \"Community Contribution\": \"Tier 3\", \"opacity\": 0.2}, {\"Unnamed: 0\": 1282, \"university_name\": \"University of Toronto\", \"professor_name\": \"Daniel Franklin\", \"ave_if\": 7.0, \"num_of_pub\": 0.2, \"overall_impact\": 2.2772071863769, \"impact_level\": 0, \"Community Contribution\": \"Tier 6\", \"opacity\": 0.2}, {\"Unnamed: 0\": 1339, \"university_name\": \"University of Toronto\", \"professor_name\": \"Rafael Montenegro Burke\", \"ave_if\": 15.38, \"num_of_pub\": 0.5, \"overall_impact\": 15.228790902199922, \"impact_level\": 1, \"Community Contribution\": \"Tier 5\", \"opacity\": 0.2}, {\"Unnamed: 0\": 1355, \"university_name\": \"University of Toronto\", \"professor_name\": \"Deryk Beal\", \"ave_if\": 2.6800000000000006, \"num_of_pub\": 3.0, \"overall_impact\": 10.287023862500469, \"impact_level\": 1, \"Community Contribution\": \"Tier 5\", \"opacity\": 0.2}, {\"Unnamed: 0\": 1390, \"university_name\": \"University of Toronto\", \"professor_name\": \"Ren-Ke Li \", \"ave_if\": 7.895604395604396, \"num_of_pub\": 9.1, \"overall_impact\": 120.44065744305269, \"impact_level\": 5, \"Community Contribution\": \"Tier 1\", \"opacity\": 0.2}, {\"Unnamed: 0\": 1488, \"university_name\": \"University of Toronto\", \"professor_name\": \"Paul Yoo\", \"ave_if\": 2.9333333333333336, \"num_of_pub\": 2.1, \"overall_impact\": 8.061596676730119, \"impact_level\": 1, \"Community Contribution\": \"Tier 5\", \"opacity\": 0.2}, {\"Unnamed: 0\": 1526, \"university_name\": \"University of Toronto\", \"professor_name\": \"Dinesh Kumbhare\", \"ave_if\": 3.767289719626168, \"num_of_pub\": 10.7, \"overall_impact\": 56.15908888590515, \"impact_level\": 4, \"Community Contribution\": \"Tier 2\", \"opacity\": 0.2}, {\"Unnamed: 0\": 1540, \"university_name\": \"University of Toronto\", \"professor_name\": \"Michael Sefton\", \"ave_if\": 8.41818181818182, \"num_of_pub\": 4.4, \"overall_impact\": 63.0921828639848, \"impact_level\": 4, \"Community Contribution\": \"Tier 2\", \"opacity\": 0.2}, {\"Unnamed: 0\": 1550, \"university_name\": \"University of Toronto\", \"professor_name\": \"Alex Mihailidis\", \"ave_if\": 3.5203125, \"num_of_pub\": 6.4, \"overall_impact\": 30.860751404745606, \"impact_level\": 2, \"Community Contribution\": \"Tier 4\", \"opacity\": 0.2}, {\"Unnamed: 0\": 1573, \"university_name\": \"University of Toronto\", \"professor_name\": \"Jos\\u00e9 Zariffa\", \"ave_if\": 2.922222222222222, \"num_of_pub\": 5.4, \"overall_impact\": 20.631713986767604, \"impact_level\": 2, \"Community Contribution\": \"Tier 4\", \"opacity\": 0.2}, {\"Unnamed: 0\": 1596, \"university_name\": \"University of Toronto\", \"professor_name\": \"Eric Diller\", \"ave_if\": 6.722222222222222, \"num_of_pub\": 0.9, \"overall_impact\": 9.741673975626345, \"impact_level\": 1, \"Community Contribution\": \"Tier 5\", \"opacity\": 0.2}, {\"Unnamed: 0\": 1667, \"university_name\": \"University of Toronto\", \"professor_name\": \"Jan Andrysek\", \"ave_if\": 1.412121212121212, \"num_of_pub\": 3.3, \"overall_impact\": 5.079885353128005, \"impact_level\": 0, \"Community Contribution\": \"Tier 6\", \"opacity\": 0.2}, {\"Unnamed: 0\": 1695, \"university_name\": \"University of Toronto\", \"professor_name\": \"Christopher Bouwmeester\", \"ave_if\": 3.075, \"num_of_pub\": 0.4, \"overall_impact\": 1.628794864930859, \"impact_level\": 0, \"Community Contribution\": \"Tier 6\", \"opacity\": 0.2}, {\"Unnamed: 0\": 1704, \"university_name\": \"University of Toronto\", \"professor_name\": \"Milica Radisic\", \"ave_if\": 10.46380952380952, \"num_of_pub\": 10.5, \"overall_impact\": 197.60666146246533, \"impact_level\": 5, \"Community Contribution\": \"Tier 1\", \"opacity\": 0.2}, {\"Unnamed: 0\": 1716, \"university_name\": \"University of Toronto\", \"professor_name\": \"Kevin Truong\", \"ave_if\": 3.654545454545455, \"num_of_pub\": 2.2, \"overall_impact\": 11.116405763829516, \"impact_level\": 1, \"Community Contribution\": \"Tier 5\", \"opacity\": 0.2}, {\"Unnamed: 0\": 1753, \"university_name\": \"University of Toronto\", \"professor_name\": \"Joseph Cafazzo\", \"ave_if\": 4.823595505617978, \"num_of_pub\": 8.9, \"overall_impact\": 63.6214567422716, \"impact_level\": 4, \"Community Contribution\": \"Tier 2\", \"opacity\": 0.2}, {\"Unnamed: 0\": 1782, \"university_name\": \"University of Toronto\", \"professor_name\": \"Freeman Lan\", \"ave_if\": 16.15, \"num_of_pub\": 0.2, \"overall_impact\": 6.475087685471912, \"impact_level\": 0, \"Community Contribution\": \"Tier 6\", \"opacity\": 0.2}, {\"Unnamed: 0\": 1838, \"university_name\": \"University of Toronto\", \"professor_name\": \"Christopher Yip\", \"ave_if\": 6.688372093023255, \"num_of_pub\": 4.3, \"overall_impact\": 46.250772216461016, \"impact_level\": 3, \"Community Contribution\": \"Tier 3\", \"opacity\": 0.2}, {\"Unnamed: 0\": 1839, \"university_name\": \"University of Toronto\", \"professor_name\": \"Craig Simmons\", \"ave_if\": 6.9486842105263165, \"num_of_pub\": 7.6, \"overall_impact\": 85.74164497246011, \"impact_level\": 4, \"Community Contribution\": \"Tier 2\", \"opacity\": 0.2}]}}, {\"mode\": \"vega-lite\"});\n",
       "</script>"
      ],
      "text/plain": [
       "alt.Chart(...)"
      ]
     },
     "execution_count": 41,
     "metadata": {},
     "output_type": "execute_result"
    }
   ],
   "source": [
    "alt.Chart(uot_df).mark_bar().encode(\n",
    "    x=alt.X('professor_name',sort='-y', axis=None),\n",
    "    y='overall_impact',\n",
    "    color = 'Community Contribution',\n",
    "    opacity='opacity',\n",
    "    tooltip=[\n",
    "        alt.Tooltip('professor_name:N', title='Professor name'),  # Tooltip for professor names\n",
    "        alt.Tooltip('num_of_pub:Q', title='Publication per year'),  # Format overall impact\n",
    "        alt.Tooltip('overall_impact:Q', title = 'Overall contribution', format = '.2f'),\n",
    "        alt.Tooltip('ave_if:Q', title = 'Average impact factor', format = '.2f'),\n",
    "        alt.Tooltip('Community Contribution:N', title='Community Contribution')  # Add contribution to tooltip\n",
    "    ]\n",
    ")"
   ]
  },
  {
   "cell_type": "code",
   "execution_count": null,
   "metadata": {},
   "outputs": [],
   "source": []
  },
  {
   "cell_type": "code",
   "execution_count": 28,
   "metadata": {},
   "outputs": [],
   "source": [
    "overall_df = pd.read_csv('../datasets/paper_with_title.csv')"
   ]
  },
  {
   "cell_type": "code",
   "execution_count": 29,
   "metadata": {},
   "outputs": [
    {
     "data": {
      "text/html": [
       "<div>\n",
       "<style scoped>\n",
       "    .dataframe tbody tr th:only-of-type {\n",
       "        vertical-align: middle;\n",
       "    }\n",
       "\n",
       "    .dataframe tbody tr th {\n",
       "        vertical-align: top;\n",
       "    }\n",
       "\n",
       "    .dataframe thead th {\n",
       "        text-align: right;\n",
       "    }\n",
       "</style>\n",
       "<table border=\"1\" class=\"dataframe\">\n",
       "  <thead>\n",
       "    <tr style=\"text-align: right;\">\n",
       "      <th></th>\n",
       "      <th>publish_date</th>\n",
       "      <th>PMID</th>\n",
       "      <th>professor_authorship</th>\n",
       "      <th>journal_if</th>\n",
       "      <th>university</th>\n",
       "      <th>professor_name</th>\n",
       "      <th>title</th>\n",
       "    </tr>\n",
       "  </thead>\n",
       "  <tbody>\n",
       "    <tr>\n",
       "      <th>0</th>\n",
       "      <td>2023-08-01</td>\n",
       "      <td>37781460</td>\n",
       "      <td>First Author</td>\n",
       "      <td>6.1</td>\n",
       "      <td>University of Tokyo</td>\n",
       "      <td>Akira Hirose</td>\n",
       "      <td>Correction: ƩexcessA1C index, the sum of yearl...</td>\n",
       "    </tr>\n",
       "    <tr>\n",
       "      <th>1</th>\n",
       "      <td>2023-08-01</td>\n",
       "      <td>37781457</td>\n",
       "      <td>First Author</td>\n",
       "      <td>6.1</td>\n",
       "      <td>University of Tokyo</td>\n",
       "      <td>Akira Hirose</td>\n",
       "      <td>ƩexcessA1C index, the sum of yearly excess HbA...</td>\n",
       "    </tr>\n",
       "    <tr>\n",
       "      <th>2</th>\n",
       "      <td>2023-01-01</td>\n",
       "      <td>36331099</td>\n",
       "      <td>Others</td>\n",
       "      <td>1.7</td>\n",
       "      <td>University of Tokyo</td>\n",
       "      <td>Akira Hirose</td>\n",
       "      <td>Comparison of the Effect of Bromfenac versus B...</td>\n",
       "    </tr>\n",
       "    <tr>\n",
       "      <th>3</th>\n",
       "      <td>2021-08-01</td>\n",
       "      <td>34319739</td>\n",
       "      <td>First Author</td>\n",
       "      <td>14.4</td>\n",
       "      <td>University of Tokyo</td>\n",
       "      <td>Akira Hirose</td>\n",
       "      <td>Unified Total Syntheses of Rhamnofolane, Tigli...</td>\n",
       "    </tr>\n",
       "    <tr>\n",
       "      <th>4</th>\n",
       "      <td>2019-07-01</td>\n",
       "      <td>30981085</td>\n",
       "      <td>First Corresponding author</td>\n",
       "      <td>2.5</td>\n",
       "      <td>University of Tokyo</td>\n",
       "      <td>Akira Hirose</td>\n",
       "      <td>Recent advances in physical reservoir computin...</td>\n",
       "    </tr>\n",
       "  </tbody>\n",
       "</table>\n",
       "</div>"
      ],
      "text/plain": [
       "  publish_date      PMID        professor_authorship  journal_if  \\\n",
       "0   2023-08-01  37781460                First Author         6.1   \n",
       "1   2023-08-01  37781457                First Author         6.1   \n",
       "2   2023-01-01  36331099                      Others         1.7   \n",
       "3   2021-08-01  34319739                First Author        14.4   \n",
       "4   2019-07-01  30981085  First Corresponding author         2.5   \n",
       "\n",
       "            university professor_name  \\\n",
       "0  University of Tokyo   Akira Hirose   \n",
       "1  University of Tokyo   Akira Hirose   \n",
       "2  University of Tokyo   Akira Hirose   \n",
       "3  University of Tokyo   Akira Hirose   \n",
       "4  University of Tokyo   Akira Hirose   \n",
       "\n",
       "                                               title  \n",
       "0  Correction: ƩexcessA1C index, the sum of yearl...  \n",
       "1  ƩexcessA1C index, the sum of yearly excess HbA...  \n",
       "2  Comparison of the Effect of Bromfenac versus B...  \n",
       "3  Unified Total Syntheses of Rhamnofolane, Tigli...  \n",
       "4  Recent advances in physical reservoir computin...  "
      ]
     },
     "execution_count": 29,
     "metadata": {},
     "output_type": "execute_result"
    }
   ],
   "source": [
    "overall_df.head()"
   ]
  },
  {
   "cell_type": "code",
   "execution_count": 98,
   "metadata": {},
   "outputs": [],
   "source": [
    "df = pd.read_csv('../datasets/prof_topic.csv')"
   ]
  },
  {
   "cell_type": "code",
   "execution_count": 99,
   "metadata": {},
   "outputs": [
    {
     "data": {
      "text/html": [
       "<div>\n",
       "<style scoped>\n",
       "    .dataframe tbody tr th:only-of-type {\n",
       "        vertical-align: middle;\n",
       "    }\n",
       "\n",
       "    .dataframe tbody tr th {\n",
       "        vertical-align: top;\n",
       "    }\n",
       "\n",
       "    .dataframe thead th {\n",
       "        text-align: right;\n",
       "    }\n",
       "</style>\n",
       "<table border=\"1\" class=\"dataframe\">\n",
       "  <thead>\n",
       "    <tr style=\"text-align: right;\">\n",
       "      <th></th>\n",
       "      <th>Unnamed: 0</th>\n",
       "      <th>Medical Imaging</th>\n",
       "      <th>Stem Cell Engineering</th>\n",
       "      <th>Clinical Medicine</th>\n",
       "      <th>Genetics</th>\n",
       "      <th>Cancer Research</th>\n",
       "      <th>Drug Delivery</th>\n",
       "      <th>Public Health</th>\n",
       "      <th>Neurology</th>\n",
       "      <th>Tissue Engineering</th>\n",
       "      <th>...</th>\n",
       "      <th>Epidemiology</th>\n",
       "      <th>Cell Biologies</th>\n",
       "      <th>Bone Marrow Regeneration</th>\n",
       "      <th>Brain Machine Interface</th>\n",
       "      <th>Spinal Injury &amp; Rehabilitation</th>\n",
       "      <th>Musculoskeletal Regeneration</th>\n",
       "      <th>Machine Learning</th>\n",
       "      <th>Covid-19</th>\n",
       "      <th>Aging</th>\n",
       "      <th>Cardiac Engineering</th>\n",
       "    </tr>\n",
       "  </thead>\n",
       "  <tbody>\n",
       "    <tr>\n",
       "      <th>0</th>\n",
       "      <td>University of Tokyo--Akira Hirose</td>\n",
       "      <td>0.010001</td>\n",
       "      <td>0.010090</td>\n",
       "      <td>0.204211</td>\n",
       "      <td>0.011712</td>\n",
       "      <td>0.000000</td>\n",
       "      <td>0.391215</td>\n",
       "      <td>0.159748</td>\n",
       "      <td>0.089265</td>\n",
       "      <td>0.007557</td>\n",
       "      <td>...</td>\n",
       "      <td>0.053961</td>\n",
       "      <td>0.219907</td>\n",
       "      <td>0.067290</td>\n",
       "      <td>0.113264</td>\n",
       "      <td>0.000000</td>\n",
       "      <td>0.060480</td>\n",
       "      <td>0.459071</td>\n",
       "      <td>0.008062</td>\n",
       "      <td>0.645456</td>\n",
       "      <td>0.070405</td>\n",
       "    </tr>\n",
       "    <tr>\n",
       "      <th>1</th>\n",
       "      <td>University of Tokyo--Fumihito Arai</td>\n",
       "      <td>0.261557</td>\n",
       "      <td>3.551552</td>\n",
       "      <td>0.069637</td>\n",
       "      <td>0.081500</td>\n",
       "      <td>0.066413</td>\n",
       "      <td>1.018227</td>\n",
       "      <td>0.235045</td>\n",
       "      <td>0.263423</td>\n",
       "      <td>0.434039</td>\n",
       "      <td>...</td>\n",
       "      <td>0.026230</td>\n",
       "      <td>0.384585</td>\n",
       "      <td>0.014673</td>\n",
       "      <td>0.028418</td>\n",
       "      <td>0.093069</td>\n",
       "      <td>1.878600</td>\n",
       "      <td>1.411481</td>\n",
       "      <td>0.578673</td>\n",
       "      <td>0.229978</td>\n",
       "      <td>1.024114</td>\n",
       "    </tr>\n",
       "    <tr>\n",
       "      <th>2</th>\n",
       "      <td>University of Tokyo--Shinichi Tokuno</td>\n",
       "      <td>0.033727</td>\n",
       "      <td>0.012989</td>\n",
       "      <td>1.561734</td>\n",
       "      <td>0.030829</td>\n",
       "      <td>0.033862</td>\n",
       "      <td>0.035486</td>\n",
       "      <td>0.381362</td>\n",
       "      <td>0.047725</td>\n",
       "      <td>0.119910</td>\n",
       "      <td>...</td>\n",
       "      <td>0.041141</td>\n",
       "      <td>0.005767</td>\n",
       "      <td>0.001036</td>\n",
       "      <td>0.325276</td>\n",
       "      <td>0.155946</td>\n",
       "      <td>0.046323</td>\n",
       "      <td>4.616125</td>\n",
       "      <td>0.948614</td>\n",
       "      <td>3.065732</td>\n",
       "      <td>0.255895</td>\n",
       "    </tr>\n",
       "    <tr>\n",
       "      <th>3</th>\n",
       "      <td>University of Tokyo--Seiichi Ohta</td>\n",
       "      <td>0.036076</td>\n",
       "      <td>0.475312</td>\n",
       "      <td>0.164052</td>\n",
       "      <td>0.123894</td>\n",
       "      <td>0.403317</td>\n",
       "      <td>1.733734</td>\n",
       "      <td>0.073367</td>\n",
       "      <td>0.104219</td>\n",
       "      <td>1.191368</td>\n",
       "      <td>...</td>\n",
       "      <td>0.004446</td>\n",
       "      <td>0.212780</td>\n",
       "      <td>0.381716</td>\n",
       "      <td>0.320024</td>\n",
       "      <td>0.056231</td>\n",
       "      <td>0.030689</td>\n",
       "      <td>0.375220</td>\n",
       "      <td>0.389032</td>\n",
       "      <td>0.187805</td>\n",
       "      <td>0.266956</td>\n",
       "    </tr>\n",
       "    <tr>\n",
       "      <th>4</th>\n",
       "      <td>University of Tokyo--Tsutomu Suzuki</td>\n",
       "      <td>0.196419</td>\n",
       "      <td>12.127456</td>\n",
       "      <td>2.211355</td>\n",
       "      <td>30.883855</td>\n",
       "      <td>1.480685</td>\n",
       "      <td>6.400929</td>\n",
       "      <td>2.892318</td>\n",
       "      <td>2.324243</td>\n",
       "      <td>1.373048</td>\n",
       "      <td>...</td>\n",
       "      <td>0.454240</td>\n",
       "      <td>41.255376</td>\n",
       "      <td>1.783986</td>\n",
       "      <td>2.058429</td>\n",
       "      <td>2.398696</td>\n",
       "      <td>2.324533</td>\n",
       "      <td>1.652263</td>\n",
       "      <td>6.383161</td>\n",
       "      <td>1.712369</td>\n",
       "      <td>1.483127</td>\n",
       "    </tr>\n",
       "  </tbody>\n",
       "</table>\n",
       "<p>5 rows × 21 columns</p>\n",
       "</div>"
      ],
      "text/plain": [
       "                             Unnamed: 0  Medical Imaging  \\\n",
       "0     University of Tokyo--Akira Hirose         0.010001   \n",
       "1    University of Tokyo--Fumihito Arai         0.261557   \n",
       "2  University of Tokyo--Shinichi Tokuno         0.033727   \n",
       "3     University of Tokyo--Seiichi Ohta         0.036076   \n",
       "4   University of Tokyo--Tsutomu Suzuki         0.196419   \n",
       "\n",
       "   Stem Cell Engineering  Clinical Medicine   Genetics  Cancer Research  \\\n",
       "0               0.010090           0.204211   0.011712         0.000000   \n",
       "1               3.551552           0.069637   0.081500         0.066413   \n",
       "2               0.012989           1.561734   0.030829         0.033862   \n",
       "3               0.475312           0.164052   0.123894         0.403317   \n",
       "4              12.127456           2.211355  30.883855         1.480685   \n",
       "\n",
       "   Drug Delivery  Public Health  Neurology  Tissue Engineering  ...  \\\n",
       "0       0.391215       0.159748   0.089265            0.007557  ...   \n",
       "1       1.018227       0.235045   0.263423            0.434039  ...   \n",
       "2       0.035486       0.381362   0.047725            0.119910  ...   \n",
       "3       1.733734       0.073367   0.104219            1.191368  ...   \n",
       "4       6.400929       2.892318   2.324243            1.373048  ...   \n",
       "\n",
       "   Epidemiology  Cell Biologies  Bone Marrow Regeneration  \\\n",
       "0      0.053961        0.219907                  0.067290   \n",
       "1      0.026230        0.384585                  0.014673   \n",
       "2      0.041141        0.005767                  0.001036   \n",
       "3      0.004446        0.212780                  0.381716   \n",
       "4      0.454240       41.255376                  1.783986   \n",
       "\n",
       "   Brain Machine Interface  Spinal Injury & Rehabilitation  \\\n",
       "0                 0.113264                        0.000000   \n",
       "1                 0.028418                        0.093069   \n",
       "2                 0.325276                        0.155946   \n",
       "3                 0.320024                        0.056231   \n",
       "4                 2.058429                        2.398696   \n",
       "\n",
       "   Musculoskeletal Regeneration  Machine Learning  Covid-19     Aging  \\\n",
       "0                      0.060480          0.459071  0.008062  0.645456   \n",
       "1                      1.878600          1.411481  0.578673  0.229978   \n",
       "2                      0.046323          4.616125  0.948614  3.065732   \n",
       "3                      0.030689          0.375220  0.389032  0.187805   \n",
       "4                      2.324533          1.652263  6.383161  1.712369   \n",
       "\n",
       "   Cardiac Engineering  \n",
       "0             0.070405  \n",
       "1             1.024114  \n",
       "2             0.255895  \n",
       "3             0.266956  \n",
       "4             1.483127  \n",
       "\n",
       "[5 rows x 21 columns]"
      ]
     },
     "execution_count": 99,
     "metadata": {},
     "output_type": "execute_result"
    }
   ],
   "source": [
    "df.head()\n"
   ]
  },
  {
   "cell_type": "code",
   "execution_count": 100,
   "metadata": {},
   "outputs": [],
   "source": [
    "person_info = df[df['Unnamed: 0']=='University of Toronto--Axel Gunther']"
   ]
  },
  {
   "cell_type": "code",
   "execution_count": 101,
   "metadata": {},
   "outputs": [
    {
     "data": {
      "text/html": [
       "<div>\n",
       "<style scoped>\n",
       "    .dataframe tbody tr th:only-of-type {\n",
       "        vertical-align: middle;\n",
       "    }\n",
       "\n",
       "    .dataframe tbody tr th {\n",
       "        vertical-align: top;\n",
       "    }\n",
       "\n",
       "    .dataframe thead th {\n",
       "        text-align: right;\n",
       "    }\n",
       "</style>\n",
       "<table border=\"1\" class=\"dataframe\">\n",
       "  <thead>\n",
       "    <tr style=\"text-align: right;\">\n",
       "      <th></th>\n",
       "      <th>Unnamed: 0</th>\n",
       "      <th>Medical Imaging</th>\n",
       "      <th>Stem Cell Engineering</th>\n",
       "      <th>Clinical Medicine</th>\n",
       "      <th>Genetics</th>\n",
       "      <th>Cancer Research</th>\n",
       "      <th>Drug Delivery</th>\n",
       "      <th>Public Health</th>\n",
       "      <th>Neurology</th>\n",
       "      <th>Tissue Engineering</th>\n",
       "      <th>...</th>\n",
       "      <th>Epidemiology</th>\n",
       "      <th>Cell Biologies</th>\n",
       "      <th>Bone Marrow Regeneration</th>\n",
       "      <th>Brain Machine Interface</th>\n",
       "      <th>Spinal Injury &amp; Rehabilitation</th>\n",
       "      <th>Musculoskeletal Regeneration</th>\n",
       "      <th>Machine Learning</th>\n",
       "      <th>Covid-19</th>\n",
       "      <th>Aging</th>\n",
       "      <th>Cardiac Engineering</th>\n",
       "    </tr>\n",
       "  </thead>\n",
       "  <tbody>\n",
       "    <tr>\n",
       "      <th>1847</th>\n",
       "      <td>University of Toronto--Axel Gunther</td>\n",
       "      <td>0.096059</td>\n",
       "      <td>2.807681</td>\n",
       "      <td>0.339031</td>\n",
       "      <td>0.0</td>\n",
       "      <td>0.0</td>\n",
       "      <td>2.328893</td>\n",
       "      <td>0.356754</td>\n",
       "      <td>0.224801</td>\n",
       "      <td>2.120113</td>\n",
       "      <td>...</td>\n",
       "      <td>0.058686</td>\n",
       "      <td>1.371363</td>\n",
       "      <td>0.212197</td>\n",
       "      <td>0.07298</td>\n",
       "      <td>0.094715</td>\n",
       "      <td>0.889401</td>\n",
       "      <td>0.667671</td>\n",
       "      <td>0.084289</td>\n",
       "      <td>0.234613</td>\n",
       "      <td>2.217925</td>\n",
       "    </tr>\n",
       "  </tbody>\n",
       "</table>\n",
       "<p>1 rows × 21 columns</p>\n",
       "</div>"
      ],
      "text/plain": [
       "                               Unnamed: 0  Medical Imaging  \\\n",
       "1847  University of Toronto--Axel Gunther         0.096059   \n",
       "\n",
       "      Stem Cell Engineering  Clinical Medicine  Genetics  Cancer Research  \\\n",
       "1847               2.807681           0.339031       0.0              0.0   \n",
       "\n",
       "      Drug Delivery  Public Health  Neurology  Tissue Engineering  ...  \\\n",
       "1847       2.328893       0.356754   0.224801            2.120113  ...   \n",
       "\n",
       "      Epidemiology  Cell Biologies  Bone Marrow Regeneration  \\\n",
       "1847      0.058686        1.371363                  0.212197   \n",
       "\n",
       "      Brain Machine Interface  Spinal Injury & Rehabilitation  \\\n",
       "1847                  0.07298                        0.094715   \n",
       "\n",
       "      Musculoskeletal Regeneration  Machine Learning  Covid-19     Aging  \\\n",
       "1847                      0.889401          0.667671  0.084289  0.234613   \n",
       "\n",
       "      Cardiac Engineering  \n",
       "1847             2.217925  \n",
       "\n",
       "[1 rows x 21 columns]"
      ]
     },
     "execution_count": 101,
     "metadata": {},
     "output_type": "execute_result"
    }
   ],
   "source": [
    "person_info "
   ]
  },
  {
   "cell_type": "code",
   "execution_count": 102,
   "metadata": {},
   "outputs": [],
   "source": [
    "person_topic_info = person_info.iloc[:,1:].T"
   ]
  },
  {
   "cell_type": "code",
   "execution_count": 103,
   "metadata": {},
   "outputs": [
    {
     "data": {
      "text/html": [
       "<div>\n",
       "<style scoped>\n",
       "    .dataframe tbody tr th:only-of-type {\n",
       "        vertical-align: middle;\n",
       "    }\n",
       "\n",
       "    .dataframe tbody tr th {\n",
       "        vertical-align: top;\n",
       "    }\n",
       "\n",
       "    .dataframe thead th {\n",
       "        text-align: right;\n",
       "    }\n",
       "</style>\n",
       "<table border=\"1\" class=\"dataframe\">\n",
       "  <thead>\n",
       "    <tr style=\"text-align: right;\">\n",
       "      <th></th>\n",
       "      <th>1847</th>\n",
       "    </tr>\n",
       "  </thead>\n",
       "  <tbody>\n",
       "    <tr>\n",
       "      <th>Medical Imaging</th>\n",
       "      <td>0.096059</td>\n",
       "    </tr>\n",
       "    <tr>\n",
       "      <th>Stem Cell Engineering</th>\n",
       "      <td>2.807681</td>\n",
       "    </tr>\n",
       "    <tr>\n",
       "      <th>Clinical Medicine</th>\n",
       "      <td>0.339031</td>\n",
       "    </tr>\n",
       "    <tr>\n",
       "      <th>Genetics</th>\n",
       "      <td>0.000000</td>\n",
       "    </tr>\n",
       "    <tr>\n",
       "      <th>Cancer Research</th>\n",
       "      <td>0.000000</td>\n",
       "    </tr>\n",
       "    <tr>\n",
       "      <th>Drug Delivery</th>\n",
       "      <td>2.328893</td>\n",
       "    </tr>\n",
       "    <tr>\n",
       "      <th>Public Health</th>\n",
       "      <td>0.356754</td>\n",
       "    </tr>\n",
       "    <tr>\n",
       "      <th>Neurology</th>\n",
       "      <td>0.224801</td>\n",
       "    </tr>\n",
       "    <tr>\n",
       "      <th>Tissue Engineering</th>\n",
       "      <td>2.120113</td>\n",
       "    </tr>\n",
       "    <tr>\n",
       "      <th>Animal Model</th>\n",
       "      <td>0.160432</td>\n",
       "    </tr>\n",
       "    <tr>\n",
       "      <th>Epidemiology</th>\n",
       "      <td>0.058686</td>\n",
       "    </tr>\n",
       "    <tr>\n",
       "      <th>Cell Biologies</th>\n",
       "      <td>1.371363</td>\n",
       "    </tr>\n",
       "    <tr>\n",
       "      <th>Bone Marrow Regeneration</th>\n",
       "      <td>0.212197</td>\n",
       "    </tr>\n",
       "    <tr>\n",
       "      <th>Brain Machine Interface</th>\n",
       "      <td>0.072980</td>\n",
       "    </tr>\n",
       "    <tr>\n",
       "      <th>Spinal Injury &amp; Rehabilitation</th>\n",
       "      <td>0.094715</td>\n",
       "    </tr>\n",
       "    <tr>\n",
       "      <th>Musculoskeletal Regeneration</th>\n",
       "      <td>0.889401</td>\n",
       "    </tr>\n",
       "    <tr>\n",
       "      <th>Machine Learning</th>\n",
       "      <td>0.667671</td>\n",
       "    </tr>\n",
       "    <tr>\n",
       "      <th>Covid-19</th>\n",
       "      <td>0.084289</td>\n",
       "    </tr>\n",
       "    <tr>\n",
       "      <th>Aging</th>\n",
       "      <td>0.234613</td>\n",
       "    </tr>\n",
       "    <tr>\n",
       "      <th>Cardiac Engineering</th>\n",
       "      <td>2.217925</td>\n",
       "    </tr>\n",
       "  </tbody>\n",
       "</table>\n",
       "</div>"
      ],
      "text/plain": [
       "                                    1847\n",
       "Medical Imaging                 0.096059\n",
       "Stem Cell Engineering           2.807681\n",
       "Clinical Medicine               0.339031\n",
       "Genetics                        0.000000\n",
       "Cancer Research                 0.000000\n",
       "Drug Delivery                   2.328893\n",
       "Public Health                   0.356754\n",
       "Neurology                       0.224801\n",
       "Tissue Engineering              2.120113\n",
       "Animal Model                    0.160432\n",
       "Epidemiology                    0.058686\n",
       "Cell Biologies                  1.371363\n",
       "Bone Marrow Regeneration        0.212197\n",
       "Brain Machine Interface         0.072980\n",
       "Spinal Injury & Rehabilitation  0.094715\n",
       "Musculoskeletal Regeneration    0.889401\n",
       "Machine Learning                0.667671\n",
       "Covid-19                        0.084289\n",
       "Aging                           0.234613\n",
       "Cardiac Engineering             2.217925"
      ]
     },
     "execution_count": 103,
     "metadata": {},
     "output_type": "execute_result"
    }
   ],
   "source": [
    "person_topic_info "
   ]
  },
  {
   "cell_type": "code",
   "execution_count": 104,
   "metadata": {},
   "outputs": [],
   "source": [
    "person_topic_info.columns = ['score']"
   ]
  },
  {
   "cell_type": "code",
   "execution_count": 105,
   "metadata": {},
   "outputs": [],
   "source": [
    "person_topic_info = person_topic_info.sort_values(by='score', ascending=False)"
   ]
  },
  {
   "cell_type": "code",
   "execution_count": 106,
   "metadata": {},
   "outputs": [],
   "source": [
    "person_topic_info = person_topic_info.head(5)"
   ]
  },
  {
   "cell_type": "code",
   "execution_count": 107,
   "metadata": {},
   "outputs": [],
   "source": [
    "person_topic_info=person_topic_info.reset_index()"
   ]
  },
  {
   "cell_type": "code",
   "execution_count": 92,
   "metadata": {},
   "outputs": [
    {
     "data": {
      "text/html": [
       "<div>\n",
       "<style scoped>\n",
       "    .dataframe tbody tr th:only-of-type {\n",
       "        vertical-align: middle;\n",
       "    }\n",
       "\n",
       "    .dataframe tbody tr th {\n",
       "        vertical-align: top;\n",
       "    }\n",
       "\n",
       "    .dataframe thead th {\n",
       "        text-align: right;\n",
       "    }\n",
       "</style>\n",
       "<table border=\"1\" class=\"dataframe\">\n",
       "  <thead>\n",
       "    <tr style=\"text-align: right;\">\n",
       "      <th></th>\n",
       "      <th>index</th>\n",
       "      <th>score</th>\n",
       "    </tr>\n",
       "  </thead>\n",
       "  <tbody>\n",
       "    <tr>\n",
       "      <th>0</th>\n",
       "      <td>Stem Cell Engineering</td>\n",
       "      <td>2.807681</td>\n",
       "    </tr>\n",
       "    <tr>\n",
       "      <th>1</th>\n",
       "      <td>Drug Delivery</td>\n",
       "      <td>2.328893</td>\n",
       "    </tr>\n",
       "    <tr>\n",
       "      <th>2</th>\n",
       "      <td>Cardiac Engineering</td>\n",
       "      <td>2.217925</td>\n",
       "    </tr>\n",
       "    <tr>\n",
       "      <th>3</th>\n",
       "      <td>Tissue Engineering</td>\n",
       "      <td>2.120113</td>\n",
       "    </tr>\n",
       "    <tr>\n",
       "      <th>4</th>\n",
       "      <td>Cell Biologies</td>\n",
       "      <td>1.371363</td>\n",
       "    </tr>\n",
       "  </tbody>\n",
       "</table>\n",
       "</div>"
      ],
      "text/plain": [
       "                   index     score\n",
       "0  Stem Cell Engineering  2.807681\n",
       "1          Drug Delivery  2.328893\n",
       "2    Cardiac Engineering  2.217925\n",
       "3     Tissue Engineering  2.120113\n",
       "4         Cell Biologies  1.371363"
      ]
     },
     "execution_count": 92,
     "metadata": {},
     "output_type": "execute_result"
    }
   ],
   "source": [
    "person_topic_info"
   ]
  },
  {
   "cell_type": "code",
   "execution_count": null,
   "metadata": {},
   "outputs": [],
   "source": []
  },
  {
   "cell_type": "code",
   "execution_count": 93,
   "metadata": {},
   "outputs": [
    {
     "data": {
      "application/vnd.plotly.v1+json": {
       "config": {
        "plotlyServerURL": "https://plot.ly"
       },
       "data": [
        {
         "fill": "toself",
         "name": "Axel Guenther",
         "r": [
          2.8076806026617787,
          2.328893189915529,
          2.2179246371883345,
          2.1201129140255848,
          1.3713633726790584
         ],
         "theta": [
          "Stem Cell Engineering",
          "Drug Delivery",
          "Cardiac Engineering",
          "Tissue Engineering",
          "Cell Biologies"
         ],
         "type": "scatterpolar"
        }
       ],
       "layout": {
        "polar": {
         "radialaxis": {
          "visible": true
         }
        },
        "showlegend": true,
        "template": {
         "data": {
          "bar": [
           {
            "error_x": {
             "color": "#2a3f5f"
            },
            "error_y": {
             "color": "#2a3f5f"
            },
            "marker": {
             "line": {
              "color": "#E5ECF6",
              "width": 0.5
             },
             "pattern": {
              "fillmode": "overlay",
              "size": 10,
              "solidity": 0.2
             }
            },
            "type": "bar"
           }
          ],
          "barpolar": [
           {
            "marker": {
             "line": {
              "color": "#E5ECF6",
              "width": 0.5
             },
             "pattern": {
              "fillmode": "overlay",
              "size": 10,
              "solidity": 0.2
             }
            },
            "type": "barpolar"
           }
          ],
          "carpet": [
           {
            "aaxis": {
             "endlinecolor": "#2a3f5f",
             "gridcolor": "white",
             "linecolor": "white",
             "minorgridcolor": "white",
             "startlinecolor": "#2a3f5f"
            },
            "baxis": {
             "endlinecolor": "#2a3f5f",
             "gridcolor": "white",
             "linecolor": "white",
             "minorgridcolor": "white",
             "startlinecolor": "#2a3f5f"
            },
            "type": "carpet"
           }
          ],
          "choropleth": [
           {
            "colorbar": {
             "outlinewidth": 0,
             "ticks": ""
            },
            "type": "choropleth"
           }
          ],
          "contour": [
           {
            "colorbar": {
             "outlinewidth": 0,
             "ticks": ""
            },
            "colorscale": [
             [
              0,
              "#0d0887"
             ],
             [
              0.1111111111111111,
              "#46039f"
             ],
             [
              0.2222222222222222,
              "#7201a8"
             ],
             [
              0.3333333333333333,
              "#9c179e"
             ],
             [
              0.4444444444444444,
              "#bd3786"
             ],
             [
              0.5555555555555556,
              "#d8576b"
             ],
             [
              0.6666666666666666,
              "#ed7953"
             ],
             [
              0.7777777777777778,
              "#fb9f3a"
             ],
             [
              0.8888888888888888,
              "#fdca26"
             ],
             [
              1,
              "#f0f921"
             ]
            ],
            "type": "contour"
           }
          ],
          "contourcarpet": [
           {
            "colorbar": {
             "outlinewidth": 0,
             "ticks": ""
            },
            "type": "contourcarpet"
           }
          ],
          "heatmap": [
           {
            "colorbar": {
             "outlinewidth": 0,
             "ticks": ""
            },
            "colorscale": [
             [
              0,
              "#0d0887"
             ],
             [
              0.1111111111111111,
              "#46039f"
             ],
             [
              0.2222222222222222,
              "#7201a8"
             ],
             [
              0.3333333333333333,
              "#9c179e"
             ],
             [
              0.4444444444444444,
              "#bd3786"
             ],
             [
              0.5555555555555556,
              "#d8576b"
             ],
             [
              0.6666666666666666,
              "#ed7953"
             ],
             [
              0.7777777777777778,
              "#fb9f3a"
             ],
             [
              0.8888888888888888,
              "#fdca26"
             ],
             [
              1,
              "#f0f921"
             ]
            ],
            "type": "heatmap"
           }
          ],
          "heatmapgl": [
           {
            "colorbar": {
             "outlinewidth": 0,
             "ticks": ""
            },
            "colorscale": [
             [
              0,
              "#0d0887"
             ],
             [
              0.1111111111111111,
              "#46039f"
             ],
             [
              0.2222222222222222,
              "#7201a8"
             ],
             [
              0.3333333333333333,
              "#9c179e"
             ],
             [
              0.4444444444444444,
              "#bd3786"
             ],
             [
              0.5555555555555556,
              "#d8576b"
             ],
             [
              0.6666666666666666,
              "#ed7953"
             ],
             [
              0.7777777777777778,
              "#fb9f3a"
             ],
             [
              0.8888888888888888,
              "#fdca26"
             ],
             [
              1,
              "#f0f921"
             ]
            ],
            "type": "heatmapgl"
           }
          ],
          "histogram": [
           {
            "marker": {
             "pattern": {
              "fillmode": "overlay",
              "size": 10,
              "solidity": 0.2
             }
            },
            "type": "histogram"
           }
          ],
          "histogram2d": [
           {
            "colorbar": {
             "outlinewidth": 0,
             "ticks": ""
            },
            "colorscale": [
             [
              0,
              "#0d0887"
             ],
             [
              0.1111111111111111,
              "#46039f"
             ],
             [
              0.2222222222222222,
              "#7201a8"
             ],
             [
              0.3333333333333333,
              "#9c179e"
             ],
             [
              0.4444444444444444,
              "#bd3786"
             ],
             [
              0.5555555555555556,
              "#d8576b"
             ],
             [
              0.6666666666666666,
              "#ed7953"
             ],
             [
              0.7777777777777778,
              "#fb9f3a"
             ],
             [
              0.8888888888888888,
              "#fdca26"
             ],
             [
              1,
              "#f0f921"
             ]
            ],
            "type": "histogram2d"
           }
          ],
          "histogram2dcontour": [
           {
            "colorbar": {
             "outlinewidth": 0,
             "ticks": ""
            },
            "colorscale": [
             [
              0,
              "#0d0887"
             ],
             [
              0.1111111111111111,
              "#46039f"
             ],
             [
              0.2222222222222222,
              "#7201a8"
             ],
             [
              0.3333333333333333,
              "#9c179e"
             ],
             [
              0.4444444444444444,
              "#bd3786"
             ],
             [
              0.5555555555555556,
              "#d8576b"
             ],
             [
              0.6666666666666666,
              "#ed7953"
             ],
             [
              0.7777777777777778,
              "#fb9f3a"
             ],
             [
              0.8888888888888888,
              "#fdca26"
             ],
             [
              1,
              "#f0f921"
             ]
            ],
            "type": "histogram2dcontour"
           }
          ],
          "mesh3d": [
           {
            "colorbar": {
             "outlinewidth": 0,
             "ticks": ""
            },
            "type": "mesh3d"
           }
          ],
          "parcoords": [
           {
            "line": {
             "colorbar": {
              "outlinewidth": 0,
              "ticks": ""
             }
            },
            "type": "parcoords"
           }
          ],
          "pie": [
           {
            "automargin": true,
            "type": "pie"
           }
          ],
          "scatter": [
           {
            "fillpattern": {
             "fillmode": "overlay",
             "size": 10,
             "solidity": 0.2
            },
            "type": "scatter"
           }
          ],
          "scatter3d": [
           {
            "line": {
             "colorbar": {
              "outlinewidth": 0,
              "ticks": ""
             }
            },
            "marker": {
             "colorbar": {
              "outlinewidth": 0,
              "ticks": ""
             }
            },
            "type": "scatter3d"
           }
          ],
          "scattercarpet": [
           {
            "marker": {
             "colorbar": {
              "outlinewidth": 0,
              "ticks": ""
             }
            },
            "type": "scattercarpet"
           }
          ],
          "scattergeo": [
           {
            "marker": {
             "colorbar": {
              "outlinewidth": 0,
              "ticks": ""
             }
            },
            "type": "scattergeo"
           }
          ],
          "scattergl": [
           {
            "marker": {
             "colorbar": {
              "outlinewidth": 0,
              "ticks": ""
             }
            },
            "type": "scattergl"
           }
          ],
          "scattermapbox": [
           {
            "marker": {
             "colorbar": {
              "outlinewidth": 0,
              "ticks": ""
             }
            },
            "type": "scattermapbox"
           }
          ],
          "scatterpolar": [
           {
            "marker": {
             "colorbar": {
              "outlinewidth": 0,
              "ticks": ""
             }
            },
            "type": "scatterpolar"
           }
          ],
          "scatterpolargl": [
           {
            "marker": {
             "colorbar": {
              "outlinewidth": 0,
              "ticks": ""
             }
            },
            "type": "scatterpolargl"
           }
          ],
          "scatterternary": [
           {
            "marker": {
             "colorbar": {
              "outlinewidth": 0,
              "ticks": ""
             }
            },
            "type": "scatterternary"
           }
          ],
          "surface": [
           {
            "colorbar": {
             "outlinewidth": 0,
             "ticks": ""
            },
            "colorscale": [
             [
              0,
              "#0d0887"
             ],
             [
              0.1111111111111111,
              "#46039f"
             ],
             [
              0.2222222222222222,
              "#7201a8"
             ],
             [
              0.3333333333333333,
              "#9c179e"
             ],
             [
              0.4444444444444444,
              "#bd3786"
             ],
             [
              0.5555555555555556,
              "#d8576b"
             ],
             [
              0.6666666666666666,
              "#ed7953"
             ],
             [
              0.7777777777777778,
              "#fb9f3a"
             ],
             [
              0.8888888888888888,
              "#fdca26"
             ],
             [
              1,
              "#f0f921"
             ]
            ],
            "type": "surface"
           }
          ],
          "table": [
           {
            "cells": {
             "fill": {
              "color": "#EBF0F8"
             },
             "line": {
              "color": "white"
             }
            },
            "header": {
             "fill": {
              "color": "#C8D4E3"
             },
             "line": {
              "color": "white"
             }
            },
            "type": "table"
           }
          ]
         },
         "layout": {
          "annotationdefaults": {
           "arrowcolor": "#2a3f5f",
           "arrowhead": 0,
           "arrowwidth": 1
          },
          "autotypenumbers": "strict",
          "coloraxis": {
           "colorbar": {
            "outlinewidth": 0,
            "ticks": ""
           }
          },
          "colorscale": {
           "diverging": [
            [
             0,
             "#8e0152"
            ],
            [
             0.1,
             "#c51b7d"
            ],
            [
             0.2,
             "#de77ae"
            ],
            [
             0.3,
             "#f1b6da"
            ],
            [
             0.4,
             "#fde0ef"
            ],
            [
             0.5,
             "#f7f7f7"
            ],
            [
             0.6,
             "#e6f5d0"
            ],
            [
             0.7,
             "#b8e186"
            ],
            [
             0.8,
             "#7fbc41"
            ],
            [
             0.9,
             "#4d9221"
            ],
            [
             1,
             "#276419"
            ]
           ],
           "sequential": [
            [
             0,
             "#0d0887"
            ],
            [
             0.1111111111111111,
             "#46039f"
            ],
            [
             0.2222222222222222,
             "#7201a8"
            ],
            [
             0.3333333333333333,
             "#9c179e"
            ],
            [
             0.4444444444444444,
             "#bd3786"
            ],
            [
             0.5555555555555556,
             "#d8576b"
            ],
            [
             0.6666666666666666,
             "#ed7953"
            ],
            [
             0.7777777777777778,
             "#fb9f3a"
            ],
            [
             0.8888888888888888,
             "#fdca26"
            ],
            [
             1,
             "#f0f921"
            ]
           ],
           "sequentialminus": [
            [
             0,
             "#0d0887"
            ],
            [
             0.1111111111111111,
             "#46039f"
            ],
            [
             0.2222222222222222,
             "#7201a8"
            ],
            [
             0.3333333333333333,
             "#9c179e"
            ],
            [
             0.4444444444444444,
             "#bd3786"
            ],
            [
             0.5555555555555556,
             "#d8576b"
            ],
            [
             0.6666666666666666,
             "#ed7953"
            ],
            [
             0.7777777777777778,
             "#fb9f3a"
            ],
            [
             0.8888888888888888,
             "#fdca26"
            ],
            [
             1,
             "#f0f921"
            ]
           ]
          },
          "colorway": [
           "#636efa",
           "#EF553B",
           "#00cc96",
           "#ab63fa",
           "#FFA15A",
           "#19d3f3",
           "#FF6692",
           "#B6E880",
           "#FF97FF",
           "#FECB52"
          ],
          "font": {
           "color": "#2a3f5f"
          },
          "geo": {
           "bgcolor": "white",
           "lakecolor": "white",
           "landcolor": "#E5ECF6",
           "showlakes": true,
           "showland": true,
           "subunitcolor": "white"
          },
          "hoverlabel": {
           "align": "left"
          },
          "hovermode": "closest",
          "mapbox": {
           "style": "light"
          },
          "paper_bgcolor": "white",
          "plot_bgcolor": "#E5ECF6",
          "polar": {
           "angularaxis": {
            "gridcolor": "white",
            "linecolor": "white",
            "ticks": ""
           },
           "bgcolor": "#E5ECF6",
           "radialaxis": {
            "gridcolor": "white",
            "linecolor": "white",
            "ticks": ""
           }
          },
          "scene": {
           "xaxis": {
            "backgroundcolor": "#E5ECF6",
            "gridcolor": "white",
            "gridwidth": 2,
            "linecolor": "white",
            "showbackground": true,
            "ticks": "",
            "zerolinecolor": "white"
           },
           "yaxis": {
            "backgroundcolor": "#E5ECF6",
            "gridcolor": "white",
            "gridwidth": 2,
            "linecolor": "white",
            "showbackground": true,
            "ticks": "",
            "zerolinecolor": "white"
           },
           "zaxis": {
            "backgroundcolor": "#E5ECF6",
            "gridcolor": "white",
            "gridwidth": 2,
            "linecolor": "white",
            "showbackground": true,
            "ticks": "",
            "zerolinecolor": "white"
           }
          },
          "shapedefaults": {
           "line": {
            "color": "#2a3f5f"
           }
          },
          "ternary": {
           "aaxis": {
            "gridcolor": "white",
            "linecolor": "white",
            "ticks": ""
           },
           "baxis": {
            "gridcolor": "white",
            "linecolor": "white",
            "ticks": ""
           },
           "bgcolor": "#E5ECF6",
           "caxis": {
            "gridcolor": "white",
            "linecolor": "white",
            "ticks": ""
           }
          },
          "title": {
           "x": 0.05
          },
          "xaxis": {
           "automargin": true,
           "gridcolor": "white",
           "linecolor": "white",
           "ticks": "",
           "title": {
            "standoff": 15
           },
           "zerolinecolor": "white",
           "zerolinewidth": 2
          },
          "yaxis": {
           "automargin": true,
           "gridcolor": "white",
           "linecolor": "white",
           "ticks": "",
           "title": {
            "standoff": 15
           },
           "zerolinecolor": "white",
           "zerolinewidth": 2
          }
         }
        }
       }
      }
     },
     "metadata": {},
     "output_type": "display_data"
    }
   ],
   "source": [
    "fig = go.Figure()\n",
    "\n",
    "fig.add_trace(go.Scatterpolar(\n",
    "    r=person_topic_info['score'],\n",
    "    theta=person_topic_info['index'],\n",
    "    fill='toself',\n",
    "    name='Axel Guenther'\n",
    "))\n",
    "\n",
    "fig.update_layout(\n",
    "    polar=dict(\n",
    "        radialaxis=dict(visible=True)\n",
    "    ),\n",
    "    showlegend=True\n",
    ")\n",
    "\n",
    "fig.show()"
   ]
  },
  {
   "cell_type": "code",
   "execution_count": 2,
   "metadata": {},
   "outputs": [],
   "source": [
    "df = pd.read_csv('../datasets/prof_topic.csv')"
   ]
  },
  {
   "cell_type": "code",
   "execution_count": 3,
   "metadata": {},
   "outputs": [
    {
     "data": {
      "text/html": [
       "<div>\n",
       "<style scoped>\n",
       "    .dataframe tbody tr th:only-of-type {\n",
       "        vertical-align: middle;\n",
       "    }\n",
       "\n",
       "    .dataframe tbody tr th {\n",
       "        vertical-align: top;\n",
       "    }\n",
       "\n",
       "    .dataframe thead th {\n",
       "        text-align: right;\n",
       "    }\n",
       "</style>\n",
       "<table border=\"1\" class=\"dataframe\">\n",
       "  <thead>\n",
       "    <tr style=\"text-align: right;\">\n",
       "      <th></th>\n",
       "      <th>Unnamed: 0</th>\n",
       "      <th>Medical Imaging</th>\n",
       "      <th>Stem Cell Engineering</th>\n",
       "      <th>Clinical Medicine</th>\n",
       "      <th>Genetics</th>\n",
       "      <th>Cancer Research</th>\n",
       "      <th>Drug Delivery</th>\n",
       "      <th>Public Health</th>\n",
       "      <th>Neurology</th>\n",
       "      <th>Tissue Engineering</th>\n",
       "      <th>...</th>\n",
       "      <th>Epidemiology</th>\n",
       "      <th>Cell Biologies</th>\n",
       "      <th>Bone Marrow Regeneration</th>\n",
       "      <th>Brain Machine Interface</th>\n",
       "      <th>Spinal Injury &amp; Rehabilitation</th>\n",
       "      <th>Musculoskeletal Regeneration</th>\n",
       "      <th>Machine Learning</th>\n",
       "      <th>Covid-19</th>\n",
       "      <th>Aging</th>\n",
       "      <th>Cardiac Engineering</th>\n",
       "    </tr>\n",
       "  </thead>\n",
       "  <tbody>\n",
       "    <tr>\n",
       "      <th>0</th>\n",
       "      <td>University of Tokyo--Akira Hirose</td>\n",
       "      <td>0.010001</td>\n",
       "      <td>0.010090</td>\n",
       "      <td>0.204211</td>\n",
       "      <td>0.011712</td>\n",
       "      <td>0.000000</td>\n",
       "      <td>0.391215</td>\n",
       "      <td>0.159748</td>\n",
       "      <td>0.089265</td>\n",
       "      <td>0.007557</td>\n",
       "      <td>...</td>\n",
       "      <td>0.053961</td>\n",
       "      <td>0.219907</td>\n",
       "      <td>0.067290</td>\n",
       "      <td>0.113264</td>\n",
       "      <td>0.000000</td>\n",
       "      <td>0.060480</td>\n",
       "      <td>0.459071</td>\n",
       "      <td>0.008062</td>\n",
       "      <td>0.645456</td>\n",
       "      <td>0.070405</td>\n",
       "    </tr>\n",
       "    <tr>\n",
       "      <th>1</th>\n",
       "      <td>University of Tokyo--Fumihito Arai</td>\n",
       "      <td>0.261557</td>\n",
       "      <td>3.551552</td>\n",
       "      <td>0.069637</td>\n",
       "      <td>0.081500</td>\n",
       "      <td>0.066413</td>\n",
       "      <td>1.018227</td>\n",
       "      <td>0.235045</td>\n",
       "      <td>0.263423</td>\n",
       "      <td>0.434039</td>\n",
       "      <td>...</td>\n",
       "      <td>0.026230</td>\n",
       "      <td>0.384585</td>\n",
       "      <td>0.014673</td>\n",
       "      <td>0.028418</td>\n",
       "      <td>0.093069</td>\n",
       "      <td>1.878600</td>\n",
       "      <td>1.411481</td>\n",
       "      <td>0.578673</td>\n",
       "      <td>0.229978</td>\n",
       "      <td>1.024114</td>\n",
       "    </tr>\n",
       "    <tr>\n",
       "      <th>2</th>\n",
       "      <td>University of Tokyo--Shinichi Tokuno</td>\n",
       "      <td>0.033727</td>\n",
       "      <td>0.012989</td>\n",
       "      <td>1.561734</td>\n",
       "      <td>0.030829</td>\n",
       "      <td>0.033862</td>\n",
       "      <td>0.035486</td>\n",
       "      <td>0.381362</td>\n",
       "      <td>0.047725</td>\n",
       "      <td>0.119910</td>\n",
       "      <td>...</td>\n",
       "      <td>0.041141</td>\n",
       "      <td>0.005767</td>\n",
       "      <td>0.001036</td>\n",
       "      <td>0.325276</td>\n",
       "      <td>0.155946</td>\n",
       "      <td>0.046323</td>\n",
       "      <td>4.616125</td>\n",
       "      <td>0.948614</td>\n",
       "      <td>3.065732</td>\n",
       "      <td>0.255895</td>\n",
       "    </tr>\n",
       "    <tr>\n",
       "      <th>3</th>\n",
       "      <td>University of Tokyo--Seiichi Ohta</td>\n",
       "      <td>0.036076</td>\n",
       "      <td>0.475312</td>\n",
       "      <td>0.164052</td>\n",
       "      <td>0.123894</td>\n",
       "      <td>0.403317</td>\n",
       "      <td>1.733734</td>\n",
       "      <td>0.073367</td>\n",
       "      <td>0.104219</td>\n",
       "      <td>1.191368</td>\n",
       "      <td>...</td>\n",
       "      <td>0.004446</td>\n",
       "      <td>0.212780</td>\n",
       "      <td>0.381716</td>\n",
       "      <td>0.320024</td>\n",
       "      <td>0.056231</td>\n",
       "      <td>0.030689</td>\n",
       "      <td>0.375220</td>\n",
       "      <td>0.389032</td>\n",
       "      <td>0.187805</td>\n",
       "      <td>0.266956</td>\n",
       "    </tr>\n",
       "    <tr>\n",
       "      <th>4</th>\n",
       "      <td>University of Tokyo--Tsutomu Suzuki</td>\n",
       "      <td>0.196419</td>\n",
       "      <td>12.127456</td>\n",
       "      <td>2.211355</td>\n",
       "      <td>30.883855</td>\n",
       "      <td>1.480685</td>\n",
       "      <td>6.400929</td>\n",
       "      <td>2.892318</td>\n",
       "      <td>2.324243</td>\n",
       "      <td>1.373048</td>\n",
       "      <td>...</td>\n",
       "      <td>0.454240</td>\n",
       "      <td>41.255376</td>\n",
       "      <td>1.783986</td>\n",
       "      <td>2.058429</td>\n",
       "      <td>2.398696</td>\n",
       "      <td>2.324533</td>\n",
       "      <td>1.652263</td>\n",
       "      <td>6.383161</td>\n",
       "      <td>1.712369</td>\n",
       "      <td>1.483127</td>\n",
       "    </tr>\n",
       "  </tbody>\n",
       "</table>\n",
       "<p>5 rows × 21 columns</p>\n",
       "</div>"
      ],
      "text/plain": [
       "                             Unnamed: 0  Medical Imaging  \\\n",
       "0     University of Tokyo--Akira Hirose         0.010001   \n",
       "1    University of Tokyo--Fumihito Arai         0.261557   \n",
       "2  University of Tokyo--Shinichi Tokuno         0.033727   \n",
       "3     University of Tokyo--Seiichi Ohta         0.036076   \n",
       "4   University of Tokyo--Tsutomu Suzuki         0.196419   \n",
       "\n",
       "   Stem Cell Engineering  Clinical Medicine   Genetics  Cancer Research  \\\n",
       "0               0.010090           0.204211   0.011712         0.000000   \n",
       "1               3.551552           0.069637   0.081500         0.066413   \n",
       "2               0.012989           1.561734   0.030829         0.033862   \n",
       "3               0.475312           0.164052   0.123894         0.403317   \n",
       "4              12.127456           2.211355  30.883855         1.480685   \n",
       "\n",
       "   Drug Delivery  Public Health  Neurology  Tissue Engineering  ...  \\\n",
       "0       0.391215       0.159748   0.089265            0.007557  ...   \n",
       "1       1.018227       0.235045   0.263423            0.434039  ...   \n",
       "2       0.035486       0.381362   0.047725            0.119910  ...   \n",
       "3       1.733734       0.073367   0.104219            1.191368  ...   \n",
       "4       6.400929       2.892318   2.324243            1.373048  ...   \n",
       "\n",
       "   Epidemiology  Cell Biologies  Bone Marrow Regeneration  \\\n",
       "0      0.053961        0.219907                  0.067290   \n",
       "1      0.026230        0.384585                  0.014673   \n",
       "2      0.041141        0.005767                  0.001036   \n",
       "3      0.004446        0.212780                  0.381716   \n",
       "4      0.454240       41.255376                  1.783986   \n",
       "\n",
       "   Brain Machine Interface  Spinal Injury & Rehabilitation  \\\n",
       "0                 0.113264                        0.000000   \n",
       "1                 0.028418                        0.093069   \n",
       "2                 0.325276                        0.155946   \n",
       "3                 0.320024                        0.056231   \n",
       "4                 2.058429                        2.398696   \n",
       "\n",
       "   Musculoskeletal Regeneration  Machine Learning  Covid-19     Aging  \\\n",
       "0                      0.060480          0.459071  0.008062  0.645456   \n",
       "1                      1.878600          1.411481  0.578673  0.229978   \n",
       "2                      0.046323          4.616125  0.948614  3.065732   \n",
       "3                      0.030689          0.375220  0.389032  0.187805   \n",
       "4                      2.324533          1.652263  6.383161  1.712369   \n",
       "\n",
       "   Cardiac Engineering  \n",
       "0             0.070405  \n",
       "1             1.024114  \n",
       "2             0.255895  \n",
       "3             0.266956  \n",
       "4             1.483127  \n",
       "\n",
       "[5 rows x 21 columns]"
      ]
     },
     "execution_count": 3,
     "metadata": {},
     "output_type": "execute_result"
    }
   ],
   "source": [
    "df.head()"
   ]
  },
  {
   "cell_type": "code",
   "execution_count": 97,
   "metadata": {},
   "outputs": [
    {
     "data": {
      "application/vnd.plotly.v1+json": {
       "config": {
        "plotlyServerURL": "https://plot.ly"
       },
       "data": [
        {
         "fill": "toself",
         "fillcolor": "rgba(135, 206, 250, 0.3)",
         "line": {
          "color": "deepskyblue",
          "width": 2
         },
         "r": [
          2.8076806026617787,
          2.328893189915529,
          2.2179246371883345,
          2.1201129140255848,
          1.3713633726790584,
          2.8076806026617787
         ],
         "theta": [
          "Stem Cell Engineering",
          "Drug Delivery",
          "Cardiac Engineering",
          "Tissue Engineering",
          "Cell Biologies",
          "Stem Cell Engineering"
         ],
         "type": "scatterpolar"
        }
       ],
       "layout": {
        "legend": {
         "font": {
          "color": "black",
          "size": 12
         },
         "title": {
          "font": {
           "size": 13
          },
          "text": "Legend"
         }
        },
        "margin": {
         "b": 50,
         "l": 50,
         "r": 50,
         "t": 50
        },
        "polar": {
         "angularaxis": {
          "showticklabels": true,
          "tickfont": {
           "color": "black",
           "size": 12
          },
          "ticks": "outside"
         },
         "radialaxis": {
          "range": [
           0,
           5
          ],
          "showticklabels": true,
          "ticklen": 5,
          "ticks": "outside",
          "visible": true
         }
        },
        "template": {
         "data": {
          "bar": [
           {
            "error_x": {
             "color": "#2a3f5f"
            },
            "error_y": {
             "color": "#2a3f5f"
            },
            "marker": {
             "line": {
              "color": "#E5ECF6",
              "width": 0.5
             },
             "pattern": {
              "fillmode": "overlay",
              "size": 10,
              "solidity": 0.2
             }
            },
            "type": "bar"
           }
          ],
          "barpolar": [
           {
            "marker": {
             "line": {
              "color": "#E5ECF6",
              "width": 0.5
             },
             "pattern": {
              "fillmode": "overlay",
              "size": 10,
              "solidity": 0.2
             }
            },
            "type": "barpolar"
           }
          ],
          "carpet": [
           {
            "aaxis": {
             "endlinecolor": "#2a3f5f",
             "gridcolor": "white",
             "linecolor": "white",
             "minorgridcolor": "white",
             "startlinecolor": "#2a3f5f"
            },
            "baxis": {
             "endlinecolor": "#2a3f5f",
             "gridcolor": "white",
             "linecolor": "white",
             "minorgridcolor": "white",
             "startlinecolor": "#2a3f5f"
            },
            "type": "carpet"
           }
          ],
          "choropleth": [
           {
            "colorbar": {
             "outlinewidth": 0,
             "ticks": ""
            },
            "type": "choropleth"
           }
          ],
          "contour": [
           {
            "colorbar": {
             "outlinewidth": 0,
             "ticks": ""
            },
            "colorscale": [
             [
              0,
              "#0d0887"
             ],
             [
              0.1111111111111111,
              "#46039f"
             ],
             [
              0.2222222222222222,
              "#7201a8"
             ],
             [
              0.3333333333333333,
              "#9c179e"
             ],
             [
              0.4444444444444444,
              "#bd3786"
             ],
             [
              0.5555555555555556,
              "#d8576b"
             ],
             [
              0.6666666666666666,
              "#ed7953"
             ],
             [
              0.7777777777777778,
              "#fb9f3a"
             ],
             [
              0.8888888888888888,
              "#fdca26"
             ],
             [
              1,
              "#f0f921"
             ]
            ],
            "type": "contour"
           }
          ],
          "contourcarpet": [
           {
            "colorbar": {
             "outlinewidth": 0,
             "ticks": ""
            },
            "type": "contourcarpet"
           }
          ],
          "heatmap": [
           {
            "colorbar": {
             "outlinewidth": 0,
             "ticks": ""
            },
            "colorscale": [
             [
              0,
              "#0d0887"
             ],
             [
              0.1111111111111111,
              "#46039f"
             ],
             [
              0.2222222222222222,
              "#7201a8"
             ],
             [
              0.3333333333333333,
              "#9c179e"
             ],
             [
              0.4444444444444444,
              "#bd3786"
             ],
             [
              0.5555555555555556,
              "#d8576b"
             ],
             [
              0.6666666666666666,
              "#ed7953"
             ],
             [
              0.7777777777777778,
              "#fb9f3a"
             ],
             [
              0.8888888888888888,
              "#fdca26"
             ],
             [
              1,
              "#f0f921"
             ]
            ],
            "type": "heatmap"
           }
          ],
          "heatmapgl": [
           {
            "colorbar": {
             "outlinewidth": 0,
             "ticks": ""
            },
            "colorscale": [
             [
              0,
              "#0d0887"
             ],
             [
              0.1111111111111111,
              "#46039f"
             ],
             [
              0.2222222222222222,
              "#7201a8"
             ],
             [
              0.3333333333333333,
              "#9c179e"
             ],
             [
              0.4444444444444444,
              "#bd3786"
             ],
             [
              0.5555555555555556,
              "#d8576b"
             ],
             [
              0.6666666666666666,
              "#ed7953"
             ],
             [
              0.7777777777777778,
              "#fb9f3a"
             ],
             [
              0.8888888888888888,
              "#fdca26"
             ],
             [
              1,
              "#f0f921"
             ]
            ],
            "type": "heatmapgl"
           }
          ],
          "histogram": [
           {
            "marker": {
             "pattern": {
              "fillmode": "overlay",
              "size": 10,
              "solidity": 0.2
             }
            },
            "type": "histogram"
           }
          ],
          "histogram2d": [
           {
            "colorbar": {
             "outlinewidth": 0,
             "ticks": ""
            },
            "colorscale": [
             [
              0,
              "#0d0887"
             ],
             [
              0.1111111111111111,
              "#46039f"
             ],
             [
              0.2222222222222222,
              "#7201a8"
             ],
             [
              0.3333333333333333,
              "#9c179e"
             ],
             [
              0.4444444444444444,
              "#bd3786"
             ],
             [
              0.5555555555555556,
              "#d8576b"
             ],
             [
              0.6666666666666666,
              "#ed7953"
             ],
             [
              0.7777777777777778,
              "#fb9f3a"
             ],
             [
              0.8888888888888888,
              "#fdca26"
             ],
             [
              1,
              "#f0f921"
             ]
            ],
            "type": "histogram2d"
           }
          ],
          "histogram2dcontour": [
           {
            "colorbar": {
             "outlinewidth": 0,
             "ticks": ""
            },
            "colorscale": [
             [
              0,
              "#0d0887"
             ],
             [
              0.1111111111111111,
              "#46039f"
             ],
             [
              0.2222222222222222,
              "#7201a8"
             ],
             [
              0.3333333333333333,
              "#9c179e"
             ],
             [
              0.4444444444444444,
              "#bd3786"
             ],
             [
              0.5555555555555556,
              "#d8576b"
             ],
             [
              0.6666666666666666,
              "#ed7953"
             ],
             [
              0.7777777777777778,
              "#fb9f3a"
             ],
             [
              0.8888888888888888,
              "#fdca26"
             ],
             [
              1,
              "#f0f921"
             ]
            ],
            "type": "histogram2dcontour"
           }
          ],
          "mesh3d": [
           {
            "colorbar": {
             "outlinewidth": 0,
             "ticks": ""
            },
            "type": "mesh3d"
           }
          ],
          "parcoords": [
           {
            "line": {
             "colorbar": {
              "outlinewidth": 0,
              "ticks": ""
             }
            },
            "type": "parcoords"
           }
          ],
          "pie": [
           {
            "automargin": true,
            "type": "pie"
           }
          ],
          "scatter": [
           {
            "fillpattern": {
             "fillmode": "overlay",
             "size": 10,
             "solidity": 0.2
            },
            "type": "scatter"
           }
          ],
          "scatter3d": [
           {
            "line": {
             "colorbar": {
              "outlinewidth": 0,
              "ticks": ""
             }
            },
            "marker": {
             "colorbar": {
              "outlinewidth": 0,
              "ticks": ""
             }
            },
            "type": "scatter3d"
           }
          ],
          "scattercarpet": [
           {
            "marker": {
             "colorbar": {
              "outlinewidth": 0,
              "ticks": ""
             }
            },
            "type": "scattercarpet"
           }
          ],
          "scattergeo": [
           {
            "marker": {
             "colorbar": {
              "outlinewidth": 0,
              "ticks": ""
             }
            },
            "type": "scattergeo"
           }
          ],
          "scattergl": [
           {
            "marker": {
             "colorbar": {
              "outlinewidth": 0,
              "ticks": ""
             }
            },
            "type": "scattergl"
           }
          ],
          "scattermapbox": [
           {
            "marker": {
             "colorbar": {
              "outlinewidth": 0,
              "ticks": ""
             }
            },
            "type": "scattermapbox"
           }
          ],
          "scatterpolar": [
           {
            "marker": {
             "colorbar": {
              "outlinewidth": 0,
              "ticks": ""
             }
            },
            "type": "scatterpolar"
           }
          ],
          "scatterpolargl": [
           {
            "marker": {
             "colorbar": {
              "outlinewidth": 0,
              "ticks": ""
             }
            },
            "type": "scatterpolargl"
           }
          ],
          "scatterternary": [
           {
            "marker": {
             "colorbar": {
              "outlinewidth": 0,
              "ticks": ""
             }
            },
            "type": "scatterternary"
           }
          ],
          "surface": [
           {
            "colorbar": {
             "outlinewidth": 0,
             "ticks": ""
            },
            "colorscale": [
             [
              0,
              "#0d0887"
             ],
             [
              0.1111111111111111,
              "#46039f"
             ],
             [
              0.2222222222222222,
              "#7201a8"
             ],
             [
              0.3333333333333333,
              "#9c179e"
             ],
             [
              0.4444444444444444,
              "#bd3786"
             ],
             [
              0.5555555555555556,
              "#d8576b"
             ],
             [
              0.6666666666666666,
              "#ed7953"
             ],
             [
              0.7777777777777778,
              "#fb9f3a"
             ],
             [
              0.8888888888888888,
              "#fdca26"
             ],
             [
              1,
              "#f0f921"
             ]
            ],
            "type": "surface"
           }
          ],
          "table": [
           {
            "cells": {
             "fill": {
              "color": "#EBF0F8"
             },
             "line": {
              "color": "white"
             }
            },
            "header": {
             "fill": {
              "color": "#C8D4E3"
             },
             "line": {
              "color": "white"
             }
            },
            "type": "table"
           }
          ]
         },
         "layout": {
          "annotationdefaults": {
           "arrowcolor": "#2a3f5f",
           "arrowhead": 0,
           "arrowwidth": 1
          },
          "autotypenumbers": "strict",
          "coloraxis": {
           "colorbar": {
            "outlinewidth": 0,
            "ticks": ""
           }
          },
          "colorscale": {
           "diverging": [
            [
             0,
             "#8e0152"
            ],
            [
             0.1,
             "#c51b7d"
            ],
            [
             0.2,
             "#de77ae"
            ],
            [
             0.3,
             "#f1b6da"
            ],
            [
             0.4,
             "#fde0ef"
            ],
            [
             0.5,
             "#f7f7f7"
            ],
            [
             0.6,
             "#e6f5d0"
            ],
            [
             0.7,
             "#b8e186"
            ],
            [
             0.8,
             "#7fbc41"
            ],
            [
             0.9,
             "#4d9221"
            ],
            [
             1,
             "#276419"
            ]
           ],
           "sequential": [
            [
             0,
             "#0d0887"
            ],
            [
             0.1111111111111111,
             "#46039f"
            ],
            [
             0.2222222222222222,
             "#7201a8"
            ],
            [
             0.3333333333333333,
             "#9c179e"
            ],
            [
             0.4444444444444444,
             "#bd3786"
            ],
            [
             0.5555555555555556,
             "#d8576b"
            ],
            [
             0.6666666666666666,
             "#ed7953"
            ],
            [
             0.7777777777777778,
             "#fb9f3a"
            ],
            [
             0.8888888888888888,
             "#fdca26"
            ],
            [
             1,
             "#f0f921"
            ]
           ],
           "sequentialminus": [
            [
             0,
             "#0d0887"
            ],
            [
             0.1111111111111111,
             "#46039f"
            ],
            [
             0.2222222222222222,
             "#7201a8"
            ],
            [
             0.3333333333333333,
             "#9c179e"
            ],
            [
             0.4444444444444444,
             "#bd3786"
            ],
            [
             0.5555555555555556,
             "#d8576b"
            ],
            [
             0.6666666666666666,
             "#ed7953"
            ],
            [
             0.7777777777777778,
             "#fb9f3a"
            ],
            [
             0.8888888888888888,
             "#fdca26"
            ],
            [
             1,
             "#f0f921"
            ]
           ]
          },
          "colorway": [
           "#636efa",
           "#EF553B",
           "#00cc96",
           "#ab63fa",
           "#FFA15A",
           "#19d3f3",
           "#FF6692",
           "#B6E880",
           "#FF97FF",
           "#FECB52"
          ],
          "font": {
           "color": "#2a3f5f"
          },
          "geo": {
           "bgcolor": "white",
           "lakecolor": "white",
           "landcolor": "#E5ECF6",
           "showlakes": true,
           "showland": true,
           "subunitcolor": "white"
          },
          "hoverlabel": {
           "align": "left"
          },
          "hovermode": "closest",
          "mapbox": {
           "style": "light"
          },
          "paper_bgcolor": "white",
          "plot_bgcolor": "#E5ECF6",
          "polar": {
           "angularaxis": {
            "gridcolor": "white",
            "linecolor": "white",
            "ticks": ""
           },
           "bgcolor": "#E5ECF6",
           "radialaxis": {
            "gridcolor": "white",
            "linecolor": "white",
            "ticks": ""
           }
          },
          "scene": {
           "xaxis": {
            "backgroundcolor": "#E5ECF6",
            "gridcolor": "white",
            "gridwidth": 2,
            "linecolor": "white",
            "showbackground": true,
            "ticks": "",
            "zerolinecolor": "white"
           },
           "yaxis": {
            "backgroundcolor": "#E5ECF6",
            "gridcolor": "white",
            "gridwidth": 2,
            "linecolor": "white",
            "showbackground": true,
            "ticks": "",
            "zerolinecolor": "white"
           },
           "zaxis": {
            "backgroundcolor": "#E5ECF6",
            "gridcolor": "white",
            "gridwidth": 2,
            "linecolor": "white",
            "showbackground": true,
            "ticks": "",
            "zerolinecolor": "white"
           }
          },
          "shapedefaults": {
           "line": {
            "color": "#2a3f5f"
           }
          },
          "ternary": {
           "aaxis": {
            "gridcolor": "white",
            "linecolor": "white",
            "ticks": ""
           },
           "baxis": {
            "gridcolor": "white",
            "linecolor": "white",
            "ticks": ""
           },
           "bgcolor": "#E5ECF6",
           "caxis": {
            "gridcolor": "white",
            "linecolor": "white",
            "ticks": ""
           }
          },
          "title": {
           "x": 0.05
          },
          "xaxis": {
           "automargin": true,
           "gridcolor": "white",
           "linecolor": "white",
           "ticks": "",
           "title": {
            "standoff": 15
           },
           "zerolinecolor": "white",
           "zerolinewidth": 2
          },
          "yaxis": {
           "automargin": true,
           "gridcolor": "white",
           "linecolor": "white",
           "ticks": "",
           "title": {
            "standoff": 15
           },
           "zerolinecolor": "white",
           "zerolinewidth": 2
          }
         }
        },
        "title": {
         "x": 0.5
        }
       }
      }
     },
     "metadata": {},
     "output_type": "display_data"
    }
   ],
   "source": [
    "fig = go.Figure()\n",
    "\n",
    "# Add trace to radar plot with improved color style\n",
    "fig.add_trace(go.Scatterpolar(\n",
    "    r=person_topic_info['score'].tolist() + [person_topic_info['score'].iloc[0]],  # Close the circle\n",
    "    theta=person_topic_info['index'].tolist() + [person_topic_info['index'].iloc[0]],  # Close the circle\n",
    "    fill='toself',\n",
    "    line=dict(color='deepskyblue', width=2),  # Change line color\n",
    "    fillcolor='rgba(135, 206, 250, 0.3)'  # Light blue fill color with transparency\n",
    "))\n",
    "\n",
    "# Update layout for radar plot\n",
    "fig.update_layout(\n",
    "    title_x=0.5,  # Center the title\n",
    "    polar=dict(\n",
    "        radialaxis=dict(\n",
    "            visible=True,\n",
    "            range=[0, 5],  # Adjust according to your data range\n",
    "            showticklabels=True,\n",
    "            ticks='outside',\n",
    "            ticklen=5\n",
    "        ),\n",
    "        angularaxis=dict(\n",
    "            tickfont=dict(size=12, color='black'),  # Customize axis labels\n",
    "            showticklabels=True,\n",
    "            ticks='outside'\n",
    "        )\n",
    "    ),\n",
    "    legend=dict(\n",
    "        title='Legend',\n",
    "        title_font_size=13,\n",
    "        font=dict(size=12, color='black')\n",
    "    ),\n",
    "    margin=dict(l=50, r=50, t=50, b=50)  # Adjust margins\n",
    ")\n",
    "\n",
    "# Display the plot\n",
    "fig.show()"
   ]
  },
  {
   "cell_type": "code",
   "execution_count": 128,
   "metadata": {},
   "outputs": [],
   "source": [
    "paper_df = pd.read_csv('../../Data_cleaning/process_dataset/paper_data_after_cleaning_2.csv')"
   ]
  },
  {
   "cell_type": "code",
   "execution_count": 129,
   "metadata": {},
   "outputs": [
    {
     "data": {
      "text/html": [
       "<div>\n",
       "<style scoped>\n",
       "    .dataframe tbody tr th:only-of-type {\n",
       "        vertical-align: middle;\n",
       "    }\n",
       "\n",
       "    .dataframe tbody tr th {\n",
       "        vertical-align: top;\n",
       "    }\n",
       "\n",
       "    .dataframe thead th {\n",
       "        text-align: right;\n",
       "    }\n",
       "</style>\n",
       "<table border=\"1\" class=\"dataframe\">\n",
       "  <thead>\n",
       "    <tr style=\"text-align: right;\">\n",
       "      <th></th>\n",
       "      <th>publish_date</th>\n",
       "      <th>title</th>\n",
       "      <th>PMID</th>\n",
       "      <th>journal</th>\n",
       "      <th>authors</th>\n",
       "      <th>key_words</th>\n",
       "      <th>abstract</th>\n",
       "      <th>university</th>\n",
       "      <th>professor_name</th>\n",
       "      <th>link_info</th>\n",
       "      <th>professor_authorship</th>\n",
       "      <th>journal_if</th>\n",
       "      <th>formal_journal_name</th>\n",
       "    </tr>\n",
       "  </thead>\n",
       "  <tbody>\n",
       "    <tr>\n",
       "      <th>0</th>\n",
       "      <td>2023-08-01</td>\n",
       "      <td>Correction: ƩexcessA1C index, the sum of yearl...</td>\n",
       "      <td>37781460</td>\n",
       "      <td>diabetology international</td>\n",
       "      <td>['Hirose, Akira', 'Maeda, Yasutaka', 'Goto, At...</td>\n",
       "      <td>[]</td>\n",
       "      <td>[This corrects the article DOI: 10.1007/s13340...</td>\n",
       "      <td>University_of_Tokyo</td>\n",
       "      <td>Akira Hirose</td>\n",
       "      <td>Diabetol Int. 2023 Aug 26;14(4):445. doi: 10.1...</td>\n",
       "      <td>First Author</td>\n",
       "      <td>6.1</td>\n",
       "      <td>tribology international</td>\n",
       "    </tr>\n",
       "    <tr>\n",
       "      <th>1</th>\n",
       "      <td>2023-08-01</td>\n",
       "      <td>ƩexcessA1C index, the sum of yearly excess HbA...</td>\n",
       "      <td>37781457</td>\n",
       "      <td>diabetology international</td>\n",
       "      <td>['Hirose, Akira', 'Maeda, Yasutaka', 'Goto, At...</td>\n",
       "      <td>['dcct edic', 'linear regression', 'retinopath...</td>\n",
       "      <td>AIMS: To find an index of glycemic exposure th...</td>\n",
       "      <td>University_of_Tokyo</td>\n",
       "      <td>Akira Hirose</td>\n",
       "      <td>Diabetol Int. 2023 Aug 10;14(4):440-444. doi: ...</td>\n",
       "      <td>First Author</td>\n",
       "      <td>6.1</td>\n",
       "      <td>tribology international</td>\n",
       "    </tr>\n",
       "    <tr>\n",
       "      <th>2</th>\n",
       "      <td>2023-01-01</td>\n",
       "      <td>Comparison of the Effect of Bromfenac versus B...</td>\n",
       "      <td>36331099</td>\n",
       "      <td>current eye research</td>\n",
       "      <td>['Tobimatsu, Yui', 'Ogihara, Rie', 'Endo, Naok...</td>\n",
       "      <td>['diabetic macular edema', 'betamethasone', 'b...</td>\n",
       "      <td>PURPOSE: To examine the effect of 0.1% bromfen...</td>\n",
       "      <td>University_of_Tokyo</td>\n",
       "      <td>Akira Hirose</td>\n",
       "      <td>Curr Eye Res. 2023 Jan;48(1):80-85. doi: 10.10...</td>\n",
       "      <td>Others</td>\n",
       "      <td>1.7</td>\n",
       "      <td>current eye research</td>\n",
       "    </tr>\n",
       "    <tr>\n",
       "      <th>3</th>\n",
       "      <td>2021-08-01</td>\n",
       "      <td>Unified Total Syntheses of Rhamnofolane, Tigli...</td>\n",
       "      <td>34319739</td>\n",
       "      <td>journal of the american chemical society</td>\n",
       "      <td>['Hirose, Akira', 'Watanabe, Ayumu', 'Ogino, K...</td>\n",
       "      <td>[]</td>\n",
       "      <td>Rhamnofolane, tigliane, and daphnane diterpeno...</td>\n",
       "      <td>University_of_Tokyo</td>\n",
       "      <td>Akira Hirose</td>\n",
       "      <td>J Am Chem Soc. 2021 Aug 11;143(31):12387-12396...</td>\n",
       "      <td>First Author</td>\n",
       "      <td>14.4</td>\n",
       "      <td>journal of the american chemical society</td>\n",
       "    </tr>\n",
       "    <tr>\n",
       "      <th>4</th>\n",
       "      <td>2019-07-01</td>\n",
       "      <td>Recent advances in physical reservoir computin...</td>\n",
       "      <td>30981085</td>\n",
       "      <td>neural networks : the official journal of the ...</td>\n",
       "      <td>['Tanaka, Gouhei', 'Yamane, Toshiyuki', 'Hérou...</td>\n",
       "      <td>['machine learning', 'neural networks', 'neuro...</td>\n",
       "      <td>Reservoir computing is a computational framewo...</td>\n",
       "      <td>University_of_Tokyo</td>\n",
       "      <td>Akira Hirose</td>\n",
       "      <td>Neural Netw. 2019 Jul;115:100-123. doi: 10.101...</td>\n",
       "      <td>First Corresponding author</td>\n",
       "      <td>2.5</td>\n",
       "      <td>global networks-a journal of transnational aff...</td>\n",
       "    </tr>\n",
       "  </tbody>\n",
       "</table>\n",
       "</div>"
      ],
      "text/plain": [
       "  publish_date                                              title      PMID  \\\n",
       "0   2023-08-01  Correction: ƩexcessA1C index, the sum of yearl...  37781460   \n",
       "1   2023-08-01  ƩexcessA1C index, the sum of yearly excess HbA...  37781457   \n",
       "2   2023-01-01  Comparison of the Effect of Bromfenac versus B...  36331099   \n",
       "3   2021-08-01  Unified Total Syntheses of Rhamnofolane, Tigli...  34319739   \n",
       "4   2019-07-01  Recent advances in physical reservoir computin...  30981085   \n",
       "\n",
       "                                             journal  \\\n",
       "0                          diabetology international   \n",
       "1                          diabetology international   \n",
       "2                               current eye research   \n",
       "3           journal of the american chemical society   \n",
       "4  neural networks : the official journal of the ...   \n",
       "\n",
       "                                             authors  \\\n",
       "0  ['Hirose, Akira', 'Maeda, Yasutaka', 'Goto, At...   \n",
       "1  ['Hirose, Akira', 'Maeda, Yasutaka', 'Goto, At...   \n",
       "2  ['Tobimatsu, Yui', 'Ogihara, Rie', 'Endo, Naok...   \n",
       "3  ['Hirose, Akira', 'Watanabe, Ayumu', 'Ogino, K...   \n",
       "4  ['Tanaka, Gouhei', 'Yamane, Toshiyuki', 'Hérou...   \n",
       "\n",
       "                                           key_words  \\\n",
       "0                                                 []   \n",
       "1  ['dcct edic', 'linear regression', 'retinopath...   \n",
       "2  ['diabetic macular edema', 'betamethasone', 'b...   \n",
       "3                                                 []   \n",
       "4  ['machine learning', 'neural networks', 'neuro...   \n",
       "\n",
       "                                            abstract           university  \\\n",
       "0  [This corrects the article DOI: 10.1007/s13340...  University_of_Tokyo   \n",
       "1  AIMS: To find an index of glycemic exposure th...  University_of_Tokyo   \n",
       "2  PURPOSE: To examine the effect of 0.1% bromfen...  University_of_Tokyo   \n",
       "3  Rhamnofolane, tigliane, and daphnane diterpeno...  University_of_Tokyo   \n",
       "4  Reservoir computing is a computational framewo...  University_of_Tokyo   \n",
       "\n",
       "  professor_name                                          link_info  \\\n",
       "0   Akira Hirose  Diabetol Int. 2023 Aug 26;14(4):445. doi: 10.1...   \n",
       "1   Akira Hirose  Diabetol Int. 2023 Aug 10;14(4):440-444. doi: ...   \n",
       "2   Akira Hirose  Curr Eye Res. 2023 Jan;48(1):80-85. doi: 10.10...   \n",
       "3   Akira Hirose  J Am Chem Soc. 2021 Aug 11;143(31):12387-12396...   \n",
       "4   Akira Hirose  Neural Netw. 2019 Jul;115:100-123. doi: 10.101...   \n",
       "\n",
       "         professor_authorship  journal_if  \\\n",
       "0                First Author         6.1   \n",
       "1                First Author         6.1   \n",
       "2                      Others         1.7   \n",
       "3                First Author        14.4   \n",
       "4  First Corresponding author         2.5   \n",
       "\n",
       "                                 formal_journal_name  \n",
       "0                            tribology international  \n",
       "1                            tribology international  \n",
       "2                               current eye research  \n",
       "3           journal of the american chemical society  \n",
       "4  global networks-a journal of transnational aff...  "
      ]
     },
     "execution_count": 129,
     "metadata": {},
     "output_type": "execute_result"
    }
   ],
   "source": [
    "paper_df.head()"
   ]
  },
  {
   "cell_type": "code",
   "execution_count": 130,
   "metadata": {},
   "outputs": [],
   "source": [
    "paper_df = paper_df[['publish_date', 'PMID', 'professor_authorship', 'journal_if','university','professor_name','title']]"
   ]
  },
  {
   "cell_type": "code",
   "execution_count": 131,
   "metadata": {},
   "outputs": [
    {
     "data": {
      "text/html": [
       "<div>\n",
       "<style scoped>\n",
       "    .dataframe tbody tr th:only-of-type {\n",
       "        vertical-align: middle;\n",
       "    }\n",
       "\n",
       "    .dataframe tbody tr th {\n",
       "        vertical-align: top;\n",
       "    }\n",
       "\n",
       "    .dataframe thead th {\n",
       "        text-align: right;\n",
       "    }\n",
       "</style>\n",
       "<table border=\"1\" class=\"dataframe\">\n",
       "  <thead>\n",
       "    <tr style=\"text-align: right;\">\n",
       "      <th></th>\n",
       "      <th>publish_date</th>\n",
       "      <th>PMID</th>\n",
       "      <th>professor_authorship</th>\n",
       "      <th>journal_if</th>\n",
       "      <th>university</th>\n",
       "      <th>professor_name</th>\n",
       "      <th>title</th>\n",
       "    </tr>\n",
       "  </thead>\n",
       "  <tbody>\n",
       "    <tr>\n",
       "      <th>0</th>\n",
       "      <td>2023-08-01</td>\n",
       "      <td>37781460</td>\n",
       "      <td>First Author</td>\n",
       "      <td>6.1</td>\n",
       "      <td>University_of_Tokyo</td>\n",
       "      <td>Akira Hirose</td>\n",
       "      <td>Correction: ƩexcessA1C index, the sum of yearl...</td>\n",
       "    </tr>\n",
       "    <tr>\n",
       "      <th>1</th>\n",
       "      <td>2023-08-01</td>\n",
       "      <td>37781457</td>\n",
       "      <td>First Author</td>\n",
       "      <td>6.1</td>\n",
       "      <td>University_of_Tokyo</td>\n",
       "      <td>Akira Hirose</td>\n",
       "      <td>ƩexcessA1C index, the sum of yearly excess HbA...</td>\n",
       "    </tr>\n",
       "    <tr>\n",
       "      <th>2</th>\n",
       "      <td>2023-01-01</td>\n",
       "      <td>36331099</td>\n",
       "      <td>Others</td>\n",
       "      <td>1.7</td>\n",
       "      <td>University_of_Tokyo</td>\n",
       "      <td>Akira Hirose</td>\n",
       "      <td>Comparison of the Effect of Bromfenac versus B...</td>\n",
       "    </tr>\n",
       "    <tr>\n",
       "      <th>3</th>\n",
       "      <td>2021-08-01</td>\n",
       "      <td>34319739</td>\n",
       "      <td>First Author</td>\n",
       "      <td>14.4</td>\n",
       "      <td>University_of_Tokyo</td>\n",
       "      <td>Akira Hirose</td>\n",
       "      <td>Unified Total Syntheses of Rhamnofolane, Tigli...</td>\n",
       "    </tr>\n",
       "    <tr>\n",
       "      <th>4</th>\n",
       "      <td>2019-07-01</td>\n",
       "      <td>30981085</td>\n",
       "      <td>First Corresponding author</td>\n",
       "      <td>2.5</td>\n",
       "      <td>University_of_Tokyo</td>\n",
       "      <td>Akira Hirose</td>\n",
       "      <td>Recent advances in physical reservoir computin...</td>\n",
       "    </tr>\n",
       "  </tbody>\n",
       "</table>\n",
       "</div>"
      ],
      "text/plain": [
       "  publish_date      PMID        professor_authorship  journal_if  \\\n",
       "0   2023-08-01  37781460                First Author         6.1   \n",
       "1   2023-08-01  37781457                First Author         6.1   \n",
       "2   2023-01-01  36331099                      Others         1.7   \n",
       "3   2021-08-01  34319739                First Author        14.4   \n",
       "4   2019-07-01  30981085  First Corresponding author         2.5   \n",
       "\n",
       "            university professor_name  \\\n",
       "0  University_of_Tokyo   Akira Hirose   \n",
       "1  University_of_Tokyo   Akira Hirose   \n",
       "2  University_of_Tokyo   Akira Hirose   \n",
       "3  University_of_Tokyo   Akira Hirose   \n",
       "4  University_of_Tokyo   Akira Hirose   \n",
       "\n",
       "                                               title  \n",
       "0  Correction: ƩexcessA1C index, the sum of yearl...  \n",
       "1  ƩexcessA1C index, the sum of yearly excess HbA...  \n",
       "2  Comparison of the Effect of Bromfenac versus B...  \n",
       "3  Unified Total Syntheses of Rhamnofolane, Tigli...  \n",
       "4  Recent advances in physical reservoir computin...  "
      ]
     },
     "execution_count": 131,
     "metadata": {},
     "output_type": "execute_result"
    }
   ],
   "source": [
    "paper_df.head()"
   ]
  },
  {
   "cell_type": "code",
   "execution_count": 132,
   "metadata": {},
   "outputs": [],
   "source": [
    "def clean_university_name(university_name):\n",
    "    clean_name = university_name.replace('_', ' ')\n",
    "    return clean_name"
   ]
  },
  {
   "cell_type": "code",
   "execution_count": 133,
   "metadata": {},
   "outputs": [],
   "source": [
    "paper_df['university'] = paper_df['university'].apply(clean_university_name)"
   ]
  },
  {
   "cell_type": "code",
   "execution_count": 134,
   "metadata": {},
   "outputs": [
    {
     "data": {
      "text/html": [
       "<div>\n",
       "<style scoped>\n",
       "    .dataframe tbody tr th:only-of-type {\n",
       "        vertical-align: middle;\n",
       "    }\n",
       "\n",
       "    .dataframe tbody tr th {\n",
       "        vertical-align: top;\n",
       "    }\n",
       "\n",
       "    .dataframe thead th {\n",
       "        text-align: right;\n",
       "    }\n",
       "</style>\n",
       "<table border=\"1\" class=\"dataframe\">\n",
       "  <thead>\n",
       "    <tr style=\"text-align: right;\">\n",
       "      <th></th>\n",
       "      <th>publish_date</th>\n",
       "      <th>PMID</th>\n",
       "      <th>professor_authorship</th>\n",
       "      <th>journal_if</th>\n",
       "      <th>university</th>\n",
       "      <th>professor_name</th>\n",
       "      <th>title</th>\n",
       "    </tr>\n",
       "  </thead>\n",
       "  <tbody>\n",
       "    <tr>\n",
       "      <th>0</th>\n",
       "      <td>2023-08-01</td>\n",
       "      <td>37781460</td>\n",
       "      <td>First Author</td>\n",
       "      <td>6.1</td>\n",
       "      <td>University of Tokyo</td>\n",
       "      <td>Akira Hirose</td>\n",
       "      <td>Correction: ƩexcessA1C index, the sum of yearl...</td>\n",
       "    </tr>\n",
       "    <tr>\n",
       "      <th>1</th>\n",
       "      <td>2023-08-01</td>\n",
       "      <td>37781457</td>\n",
       "      <td>First Author</td>\n",
       "      <td>6.1</td>\n",
       "      <td>University of Tokyo</td>\n",
       "      <td>Akira Hirose</td>\n",
       "      <td>ƩexcessA1C index, the sum of yearly excess HbA...</td>\n",
       "    </tr>\n",
       "    <tr>\n",
       "      <th>2</th>\n",
       "      <td>2023-01-01</td>\n",
       "      <td>36331099</td>\n",
       "      <td>Others</td>\n",
       "      <td>1.7</td>\n",
       "      <td>University of Tokyo</td>\n",
       "      <td>Akira Hirose</td>\n",
       "      <td>Comparison of the Effect of Bromfenac versus B...</td>\n",
       "    </tr>\n",
       "    <tr>\n",
       "      <th>3</th>\n",
       "      <td>2021-08-01</td>\n",
       "      <td>34319739</td>\n",
       "      <td>First Author</td>\n",
       "      <td>14.4</td>\n",
       "      <td>University of Tokyo</td>\n",
       "      <td>Akira Hirose</td>\n",
       "      <td>Unified Total Syntheses of Rhamnofolane, Tigli...</td>\n",
       "    </tr>\n",
       "    <tr>\n",
       "      <th>4</th>\n",
       "      <td>2019-07-01</td>\n",
       "      <td>30981085</td>\n",
       "      <td>First Corresponding author</td>\n",
       "      <td>2.5</td>\n",
       "      <td>University of Tokyo</td>\n",
       "      <td>Akira Hirose</td>\n",
       "      <td>Recent advances in physical reservoir computin...</td>\n",
       "    </tr>\n",
       "  </tbody>\n",
       "</table>\n",
       "</div>"
      ],
      "text/plain": [
       "  publish_date      PMID        professor_authorship  journal_if  \\\n",
       "0   2023-08-01  37781460                First Author         6.1   \n",
       "1   2023-08-01  37781457                First Author         6.1   \n",
       "2   2023-01-01  36331099                      Others         1.7   \n",
       "3   2021-08-01  34319739                First Author        14.4   \n",
       "4   2019-07-01  30981085  First Corresponding author         2.5   \n",
       "\n",
       "            university professor_name  \\\n",
       "0  University of Tokyo   Akira Hirose   \n",
       "1  University of Tokyo   Akira Hirose   \n",
       "2  University of Tokyo   Akira Hirose   \n",
       "3  University of Tokyo   Akira Hirose   \n",
       "4  University of Tokyo   Akira Hirose   \n",
       "\n",
       "                                               title  \n",
       "0  Correction: ƩexcessA1C index, the sum of yearl...  \n",
       "1  ƩexcessA1C index, the sum of yearly excess HbA...  \n",
       "2  Comparison of the Effect of Bromfenac versus B...  \n",
       "3  Unified Total Syntheses of Rhamnofolane, Tigli...  \n",
       "4  Recent advances in physical reservoir computin...  "
      ]
     },
     "execution_count": 134,
     "metadata": {},
     "output_type": "execute_result"
    }
   ],
   "source": [
    "paper_df.head()"
   ]
  },
  {
   "cell_type": "code",
   "execution_count": 135,
   "metadata": {},
   "outputs": [],
   "source": [
    "paper_df.to_csv('../datasets/paper_with_title.csv', index=False)"
   ]
  },
  {
   "cell_type": "code",
   "execution_count": 145,
   "metadata": {},
   "outputs": [],
   "source": [
    "paper_df = pd.read_csv('../datasets/paper_with_title.csv')"
   ]
  },
  {
   "cell_type": "code",
   "execution_count": 146,
   "metadata": {},
   "outputs": [
    {
     "data": {
      "text/html": [
       "<div>\n",
       "<style scoped>\n",
       "    .dataframe tbody tr th:only-of-type {\n",
       "        vertical-align: middle;\n",
       "    }\n",
       "\n",
       "    .dataframe tbody tr th {\n",
       "        vertical-align: top;\n",
       "    }\n",
       "\n",
       "    .dataframe thead th {\n",
       "        text-align: right;\n",
       "    }\n",
       "</style>\n",
       "<table border=\"1\" class=\"dataframe\">\n",
       "  <thead>\n",
       "    <tr style=\"text-align: right;\">\n",
       "      <th></th>\n",
       "      <th>publish_date</th>\n",
       "      <th>PMID</th>\n",
       "      <th>professor_authorship</th>\n",
       "      <th>journal_if</th>\n",
       "      <th>university</th>\n",
       "      <th>professor_name</th>\n",
       "      <th>title</th>\n",
       "    </tr>\n",
       "  </thead>\n",
       "  <tbody>\n",
       "    <tr>\n",
       "      <th>0</th>\n",
       "      <td>2023-08-01</td>\n",
       "      <td>37781460</td>\n",
       "      <td>First Author</td>\n",
       "      <td>6.1</td>\n",
       "      <td>University of Tokyo</td>\n",
       "      <td>Akira Hirose</td>\n",
       "      <td>Correction: ƩexcessA1C index, the sum of yearl...</td>\n",
       "    </tr>\n",
       "    <tr>\n",
       "      <th>1</th>\n",
       "      <td>2023-08-01</td>\n",
       "      <td>37781457</td>\n",
       "      <td>First Author</td>\n",
       "      <td>6.1</td>\n",
       "      <td>University of Tokyo</td>\n",
       "      <td>Akira Hirose</td>\n",
       "      <td>ƩexcessA1C index, the sum of yearly excess HbA...</td>\n",
       "    </tr>\n",
       "    <tr>\n",
       "      <th>2</th>\n",
       "      <td>2023-01-01</td>\n",
       "      <td>36331099</td>\n",
       "      <td>Others</td>\n",
       "      <td>1.7</td>\n",
       "      <td>University of Tokyo</td>\n",
       "      <td>Akira Hirose</td>\n",
       "      <td>Comparison of the Effect of Bromfenac versus B...</td>\n",
       "    </tr>\n",
       "    <tr>\n",
       "      <th>3</th>\n",
       "      <td>2021-08-01</td>\n",
       "      <td>34319739</td>\n",
       "      <td>First Author</td>\n",
       "      <td>14.4</td>\n",
       "      <td>University of Tokyo</td>\n",
       "      <td>Akira Hirose</td>\n",
       "      <td>Unified Total Syntheses of Rhamnofolane, Tigli...</td>\n",
       "    </tr>\n",
       "    <tr>\n",
       "      <th>4</th>\n",
       "      <td>2019-07-01</td>\n",
       "      <td>30981085</td>\n",
       "      <td>First Corresponding author</td>\n",
       "      <td>2.5</td>\n",
       "      <td>University of Tokyo</td>\n",
       "      <td>Akira Hirose</td>\n",
       "      <td>Recent advances in physical reservoir computin...</td>\n",
       "    </tr>\n",
       "  </tbody>\n",
       "</table>\n",
       "</div>"
      ],
      "text/plain": [
       "  publish_date      PMID        professor_authorship  journal_if  \\\n",
       "0   2023-08-01  37781460                First Author         6.1   \n",
       "1   2023-08-01  37781457                First Author         6.1   \n",
       "2   2023-01-01  36331099                      Others         1.7   \n",
       "3   2021-08-01  34319739                First Author        14.4   \n",
       "4   2019-07-01  30981085  First Corresponding author         2.5   \n",
       "\n",
       "            university professor_name  \\\n",
       "0  University of Tokyo   Akira Hirose   \n",
       "1  University of Tokyo   Akira Hirose   \n",
       "2  University of Tokyo   Akira Hirose   \n",
       "3  University of Tokyo   Akira Hirose   \n",
       "4  University of Tokyo   Akira Hirose   \n",
       "\n",
       "                                               title  \n",
       "0  Correction: ƩexcessA1C index, the sum of yearl...  \n",
       "1  ƩexcessA1C index, the sum of yearly excess HbA...  \n",
       "2  Comparison of the Effect of Bromfenac versus B...  \n",
       "3  Unified Total Syntheses of Rhamnofolane, Tigli...  \n",
       "4  Recent advances in physical reservoir computin...  "
      ]
     },
     "execution_count": 146,
     "metadata": {},
     "output_type": "execute_result"
    }
   ],
   "source": [
    "paper_df.head()"
   ]
  },
  {
   "cell_type": "code",
   "execution_count": 147,
   "metadata": {},
   "outputs": [
    {
     "data": {
      "text/plain": [
       "array(['First Author', 'Others', 'First Corresponding author',\n",
       "       'Second Author', 'Second Corresponding author'], dtype=object)"
      ]
     },
     "execution_count": 147,
     "metadata": {},
     "output_type": "execute_result"
    }
   ],
   "source": [
    "paper_df.professor_authorship.unique()"
   ]
  },
  {
   "cell_type": "code",
   "execution_count": 148,
   "metadata": {},
   "outputs": [],
   "source": [
    "paper_df = paper_df[paper_df['university']=='University of Toronto']\n",
    "paper_df = paper_df[paper_df['professor_name']=='Axel Gunther']"
   ]
  },
  {
   "cell_type": "code",
   "execution_count": 149,
   "metadata": {},
   "outputs": [],
   "source": [
    "personal_df = paper_df[paper_df['professor_authorship'].isin(['First Corresponding author', 'First Author'])]"
   ]
  },
  {
   "cell_type": "code",
   "execution_count": 153,
   "metadata": {},
   "outputs": [],
   "source": [
    "personal_df = personal_df.drop_duplicates(subset='PMID')"
   ]
  },
  {
   "cell_type": "code",
   "execution_count": 155,
   "metadata": {},
   "outputs": [],
   "source": [
    "personal_df = personal_df.sort_values(by='journal_if', ascending=False)"
   ]
  },
  {
   "cell_type": "code",
   "execution_count": 161,
   "metadata": {},
   "outputs": [],
   "source": [
    "personal_df['publish_date'] = pd.to_datetime(personal_df['publish_date'])"
   ]
  },
  {
   "cell_type": "code",
   "execution_count": 162,
   "metadata": {},
   "outputs": [],
   "source": [
    "personal_df['time']  = personal_df['publish_date'].dt.to_period('M')"
   ]
  },
  {
   "cell_type": "code",
   "execution_count": 164,
   "metadata": {},
   "outputs": [
    {
     "data": {
      "text/html": [
       "<div>\n",
       "<style scoped>\n",
       "    .dataframe tbody tr th:only-of-type {\n",
       "        vertical-align: middle;\n",
       "    }\n",
       "\n",
       "    .dataframe tbody tr th {\n",
       "        vertical-align: top;\n",
       "    }\n",
       "\n",
       "    .dataframe thead th {\n",
       "        text-align: right;\n",
       "    }\n",
       "</style>\n",
       "<table border=\"1\" class=\"dataframe\">\n",
       "  <thead>\n",
       "    <tr style=\"text-align: right;\">\n",
       "      <th></th>\n",
       "      <th>time</th>\n",
       "      <th>PMID</th>\n",
       "      <th>title</th>\n",
       "    </tr>\n",
       "  </thead>\n",
       "  <tbody>\n",
       "    <tr>\n",
       "      <th>90944</th>\n",
       "      <td>2021-04</td>\n",
       "      <td>33694327</td>\n",
       "      <td>One-Step Formation of Protein-Based Tubular St...</td>\n",
       "    </tr>\n",
       "    <tr>\n",
       "      <th>90946</th>\n",
       "      <td>2020-02</td>\n",
       "      <td>32015225</td>\n",
       "      <td>Handheld instrument for wound-conformal delive...</td>\n",
       "    </tr>\n",
       "    <tr>\n",
       "      <th>90947</th>\n",
       "      <td>2018-05</td>\n",
       "      <td>29662977</td>\n",
       "      <td>Handheld skin printer: in situ formation of pl...</td>\n",
       "    </tr>\n",
       "    <tr>\n",
       "      <th>90949</th>\n",
       "      <td>2015-06</td>\n",
       "      <td>25990299</td>\n",
       "      <td>Artery-on-a-chip platform for automated, multi...</td>\n",
       "    </tr>\n",
       "    <tr>\n",
       "      <th>90952</th>\n",
       "      <td>2014-07</td>\n",
       "      <td>24828153</td>\n",
       "      <td>Shaken, and stirred: oscillatory segmented flo...</td>\n",
       "    </tr>\n",
       "    <tr>\n",
       "      <th>90945</th>\n",
       "      <td>2020-07</td>\n",
       "      <td>32685675</td>\n",
       "      <td>Continuous Formation of Ultrathin, Strong Coll...</td>\n",
       "    </tr>\n",
       "  </tbody>\n",
       "</table>\n",
       "</div>"
      ],
      "text/plain": [
       "          time      PMID                                              title\n",
       "90944  2021-04  33694327  One-Step Formation of Protein-Based Tubular St...\n",
       "90946  2020-02  32015225  Handheld instrument for wound-conformal delive...\n",
       "90947  2018-05  29662977  Handheld skin printer: in situ formation of pl...\n",
       "90949  2015-06  25990299  Artery-on-a-chip platform for automated, multi...\n",
       "90952  2014-07  24828153  Shaken, and stirred: oscillatory segmented flo...\n",
       "90945  2020-07  32685675  Continuous Formation of Ultrathin, Strong Coll..."
      ]
     },
     "execution_count": 164,
     "metadata": {},
     "output_type": "execute_result"
    }
   ],
   "source": [
    "personal_df[['time', 'PMID','title']]"
   ]
  },
  {
   "cell_type": "code",
   "execution_count": 159,
   "metadata": {},
   "outputs": [
    {
     "data": {
      "text/plain": [
       "['One-Step Formation of Protein-Based Tubular Structures for Functional Devices and Tissues.',\n",
       " 'Handheld instrument for wound-conformal delivery of skin precursor sheets improves healing in full-thickness burns.',\n",
       " 'Handheld skin printer: in situ formation of planar biomaterials and tissues.',\n",
       " 'Artery-on-a-chip platform for automated, multimodal assessment of cerebral blood vessel structure and function.',\n",
       " 'Shaken, and stirred: oscillatory segmented flow for controlled size-evolution of colloidal nanomaterials.']"
      ]
     },
     "execution_count": 159,
     "metadata": {},
     "output_type": "execute_result"
    }
   ],
   "source": [
    "list(personal_df.iloc[:5,-1].values)"
   ]
  },
  {
   "cell_type": "code",
   "execution_count": null,
   "metadata": {},
   "outputs": [],
   "source": [
    "paper_df = [['publish_date', 'PMID', 'professor_authorship','journal_if']]"
   ]
  },
  {
   "cell_type": "code",
   "execution_count": 111,
   "metadata": {},
   "outputs": [],
   "source": [
    "paper_df = paper_df[paper_df['university']=='University of Toronto']"
   ]
  },
  {
   "cell_type": "code",
   "execution_count": 113,
   "metadata": {},
   "outputs": [],
   "source": [
    "paper_df = paper_df[paper_df['professor_name']=='Axel Gunther']"
   ]
  },
  {
   "cell_type": "code",
   "execution_count": 114,
   "metadata": {},
   "outputs": [
    {
     "data": {
      "text/html": [
       "<div>\n",
       "<style scoped>\n",
       "    .dataframe tbody tr th:only-of-type {\n",
       "        vertical-align: middle;\n",
       "    }\n",
       "\n",
       "    .dataframe tbody tr th {\n",
       "        vertical-align: top;\n",
       "    }\n",
       "\n",
       "    .dataframe thead th {\n",
       "        text-align: right;\n",
       "    }\n",
       "</style>\n",
       "<table border=\"1\" class=\"dataframe\">\n",
       "  <thead>\n",
       "    <tr style=\"text-align: right;\">\n",
       "      <th></th>\n",
       "      <th>publish_date</th>\n",
       "      <th>PMID</th>\n",
       "      <th>university</th>\n",
       "      <th>professor_name</th>\n",
       "      <th>professor_authorship</th>\n",
       "      <th>journal_if</th>\n",
       "      <th>formal_journal_name</th>\n",
       "      <th>0</th>\n",
       "      <th>1</th>\n",
       "      <th>2</th>\n",
       "      <th>...</th>\n",
       "      <th>11</th>\n",
       "      <th>12</th>\n",
       "      <th>13</th>\n",
       "      <th>14</th>\n",
       "      <th>15</th>\n",
       "      <th>16</th>\n",
       "      <th>17</th>\n",
       "      <th>18</th>\n",
       "      <th>19</th>\n",
       "      <th>unique_professor_name</th>\n",
       "    </tr>\n",
       "  </thead>\n",
       "  <tbody>\n",
       "    <tr>\n",
       "      <th>90944</th>\n",
       "      <td>2021-04-01</td>\n",
       "      <td>33694327</td>\n",
       "      <td>University of Toronto</td>\n",
       "      <td>Axel Gunther</td>\n",
       "      <td>First Corresponding author</td>\n",
       "      <td>10.0</td>\n",
       "      <td>advanced healthcare materials</td>\n",
       "      <td>0.000066</td>\n",
       "      <td>0.018509</td>\n",
       "      <td>0.000000</td>\n",
       "      <td>...</td>\n",
       "      <td>0.025689</td>\n",
       "      <td>0.000000</td>\n",
       "      <td>0.001581</td>\n",
       "      <td>0.000000</td>\n",
       "      <td>0.000000</td>\n",
       "      <td>0.005787</td>\n",
       "      <td>0.000000</td>\n",
       "      <td>0.001176</td>\n",
       "      <td>0.005305</td>\n",
       "      <td>University of Toronto Axel Gunther</td>\n",
       "    </tr>\n",
       "    <tr>\n",
       "      <th>90945</th>\n",
       "      <td>2020-07-01</td>\n",
       "      <td>32685675</td>\n",
       "      <td>University of Toronto</td>\n",
       "      <td>Axel Gunther</td>\n",
       "      <td>First Corresponding author</td>\n",
       "      <td>5.4</td>\n",
       "      <td>acs biomaterials science &amp; engineering</td>\n",
       "      <td>0.000000</td>\n",
       "      <td>0.008354</td>\n",
       "      <td>0.000000</td>\n",
       "      <td>...</td>\n",
       "      <td>0.011267</td>\n",
       "      <td>0.004457</td>\n",
       "      <td>0.000024</td>\n",
       "      <td>0.000000</td>\n",
       "      <td>0.020075</td>\n",
       "      <td>0.001231</td>\n",
       "      <td>0.000155</td>\n",
       "      <td>0.000000</td>\n",
       "      <td>0.001232</td>\n",
       "      <td>University of Toronto Axel Gunther</td>\n",
       "    </tr>\n",
       "    <tr>\n",
       "      <th>90946</th>\n",
       "      <td>2020-02-01</td>\n",
       "      <td>32015225</td>\n",
       "      <td>University of Toronto</td>\n",
       "      <td>Axel Gunther</td>\n",
       "      <td>First Corresponding author</td>\n",
       "      <td>8.2</td>\n",
       "      <td>biofabrication</td>\n",
       "      <td>0.000000</td>\n",
       "      <td>0.050308</td>\n",
       "      <td>0.012179</td>\n",
       "      <td>...</td>\n",
       "      <td>0.000000</td>\n",
       "      <td>0.003636</td>\n",
       "      <td>0.000000</td>\n",
       "      <td>0.003120</td>\n",
       "      <td>0.000000</td>\n",
       "      <td>0.007467</td>\n",
       "      <td>0.000039</td>\n",
       "      <td>0.000000</td>\n",
       "      <td>0.000000</td>\n",
       "      <td>University of Toronto Axel Gunther</td>\n",
       "    </tr>\n",
       "    <tr>\n",
       "      <th>90947</th>\n",
       "      <td>2018-05-01</td>\n",
       "      <td>29662977</td>\n",
       "      <td>University of Toronto</td>\n",
       "      <td>Axel Gunther</td>\n",
       "      <td>First Corresponding author</td>\n",
       "      <td>6.1</td>\n",
       "      <td>lab on a chip</td>\n",
       "      <td>0.000571</td>\n",
       "      <td>0.013477</td>\n",
       "      <td>0.000000</td>\n",
       "      <td>...</td>\n",
       "      <td>0.006675</td>\n",
       "      <td>0.001329</td>\n",
       "      <td>0.000000</td>\n",
       "      <td>0.000000</td>\n",
       "      <td>0.000000</td>\n",
       "      <td>0.002163</td>\n",
       "      <td>0.001460</td>\n",
       "      <td>0.000000</td>\n",
       "      <td>0.004581</td>\n",
       "      <td>University of Toronto Axel Gunther</td>\n",
       "    </tr>\n",
       "    <tr>\n",
       "      <th>90948</th>\n",
       "      <td>2015-07-01</td>\n",
       "      <td>26016773</td>\n",
       "      <td>University of Toronto</td>\n",
       "      <td>Axel Gunther</td>\n",
       "      <td>Second Author</td>\n",
       "      <td>6.1</td>\n",
       "      <td>lab on a chip</td>\n",
       "      <td>0.000188</td>\n",
       "      <td>0.007121</td>\n",
       "      <td>0.000216</td>\n",
       "      <td>...</td>\n",
       "      <td>0.000000</td>\n",
       "      <td>0.000000</td>\n",
       "      <td>0.000000</td>\n",
       "      <td>0.001479</td>\n",
       "      <td>0.000000</td>\n",
       "      <td>0.006805</td>\n",
       "      <td>0.000000</td>\n",
       "      <td>0.001477</td>\n",
       "      <td>0.056860</td>\n",
       "      <td>University of Toronto Axel Gunther</td>\n",
       "    </tr>\n",
       "    <tr>\n",
       "      <th>90949</th>\n",
       "      <td>2015-06-01</td>\n",
       "      <td>25990299</td>\n",
       "      <td>University of Toronto</td>\n",
       "      <td>Axel Gunther</td>\n",
       "      <td>First Corresponding author</td>\n",
       "      <td>6.1</td>\n",
       "      <td>lab on a chip</td>\n",
       "      <td>0.002667</td>\n",
       "      <td>0.014137</td>\n",
       "      <td>0.000000</td>\n",
       "      <td>...</td>\n",
       "      <td>0.007087</td>\n",
       "      <td>0.000000</td>\n",
       "      <td>0.000640</td>\n",
       "      <td>0.000000</td>\n",
       "      <td>0.028441</td>\n",
       "      <td>0.000000</td>\n",
       "      <td>0.002747</td>\n",
       "      <td>0.000000</td>\n",
       "      <td>0.032079</td>\n",
       "      <td>University of Toronto Axel Gunther</td>\n",
       "    </tr>\n",
       "    <tr>\n",
       "      <th>90950</th>\n",
       "      <td>2014-08-01</td>\n",
       "      <td>25079335</td>\n",
       "      <td>University of Toronto</td>\n",
       "      <td>Axel Gunther</td>\n",
       "      <td>Second Corresponding author</td>\n",
       "      <td>14.4</td>\n",
       "      <td>journal of the american chemical society</td>\n",
       "      <td>0.000292</td>\n",
       "      <td>0.001312</td>\n",
       "      <td>0.000000</td>\n",
       "      <td>...</td>\n",
       "      <td>0.000596</td>\n",
       "      <td>0.000887</td>\n",
       "      <td>0.000000</td>\n",
       "      <td>0.000000</td>\n",
       "      <td>0.000230</td>\n",
       "      <td>0.004888</td>\n",
       "      <td>0.000000</td>\n",
       "      <td>0.002569</td>\n",
       "      <td>0.000948</td>\n",
       "      <td>University of Toronto Axel Gunther</td>\n",
       "    </tr>\n",
       "    <tr>\n",
       "      <th>90951</th>\n",
       "      <td>2014-07-01</td>\n",
       "      <td>24961230</td>\n",
       "      <td>University of Toronto</td>\n",
       "      <td>Axel Gunther</td>\n",
       "      <td>Second Author</td>\n",
       "      <td>16.1</td>\n",
       "      <td>angewandte chemie-international edition</td>\n",
       "      <td>0.000000</td>\n",
       "      <td>0.002091</td>\n",
       "      <td>0.000000</td>\n",
       "      <td>...</td>\n",
       "      <td>0.000000</td>\n",
       "      <td>0.000000</td>\n",
       "      <td>0.000254</td>\n",
       "      <td>0.000000</td>\n",
       "      <td>0.000000</td>\n",
       "      <td>0.000000</td>\n",
       "      <td>0.000000</td>\n",
       "      <td>0.009240</td>\n",
       "      <td>0.000554</td>\n",
       "      <td>University of Toronto Axel Gunther</td>\n",
       "    </tr>\n",
       "    <tr>\n",
       "      <th>90952</th>\n",
       "      <td>2014-07-01</td>\n",
       "      <td>24828153</td>\n",
       "      <td>University of Toronto</td>\n",
       "      <td>Axel Gunther</td>\n",
       "      <td>First Corresponding author</td>\n",
       "      <td>6.1</td>\n",
       "      <td>lab on a chip</td>\n",
       "      <td>0.001389</td>\n",
       "      <td>0.000000</td>\n",
       "      <td>0.000000</td>\n",
       "      <td>...</td>\n",
       "      <td>0.000000</td>\n",
       "      <td>0.000000</td>\n",
       "      <td>0.000000</td>\n",
       "      <td>0.000054</td>\n",
       "      <td>0.000541</td>\n",
       "      <td>0.004782</td>\n",
       "      <td>0.000000</td>\n",
       "      <td>0.000036</td>\n",
       "      <td>0.052745</td>\n",
       "      <td>University of Toronto Axel Gunther</td>\n",
       "    </tr>\n",
       "    <tr>\n",
       "      <th>90953</th>\n",
       "      <td>2021-04-01</td>\n",
       "      <td>33694327</td>\n",
       "      <td>University of Toronto</td>\n",
       "      <td>Axel Gunther</td>\n",
       "      <td>First Corresponding author</td>\n",
       "      <td>10.0</td>\n",
       "      <td>advanced healthcare materials</td>\n",
       "      <td>0.000066</td>\n",
       "      <td>0.018509</td>\n",
       "      <td>0.000000</td>\n",
       "      <td>...</td>\n",
       "      <td>0.025689</td>\n",
       "      <td>0.000000</td>\n",
       "      <td>0.001581</td>\n",
       "      <td>0.000000</td>\n",
       "      <td>0.000000</td>\n",
       "      <td>0.005787</td>\n",
       "      <td>0.000000</td>\n",
       "      <td>0.001176</td>\n",
       "      <td>0.005305</td>\n",
       "      <td>University of Toronto Axel Gunther</td>\n",
       "    </tr>\n",
       "    <tr>\n",
       "      <th>90954</th>\n",
       "      <td>2020-07-01</td>\n",
       "      <td>32685675</td>\n",
       "      <td>University of Toronto</td>\n",
       "      <td>Axel Gunther</td>\n",
       "      <td>First Corresponding author</td>\n",
       "      <td>5.4</td>\n",
       "      <td>acs biomaterials science &amp; engineering</td>\n",
       "      <td>0.000000</td>\n",
       "      <td>0.008354</td>\n",
       "      <td>0.000000</td>\n",
       "      <td>...</td>\n",
       "      <td>0.011267</td>\n",
       "      <td>0.004457</td>\n",
       "      <td>0.000024</td>\n",
       "      <td>0.000000</td>\n",
       "      <td>0.020075</td>\n",
       "      <td>0.001231</td>\n",
       "      <td>0.000155</td>\n",
       "      <td>0.000000</td>\n",
       "      <td>0.001232</td>\n",
       "      <td>University of Toronto Axel Gunther</td>\n",
       "    </tr>\n",
       "    <tr>\n",
       "      <th>90955</th>\n",
       "      <td>2020-02-01</td>\n",
       "      <td>32015225</td>\n",
       "      <td>University of Toronto</td>\n",
       "      <td>Axel Gunther</td>\n",
       "      <td>First Corresponding author</td>\n",
       "      <td>8.2</td>\n",
       "      <td>biofabrication</td>\n",
       "      <td>0.000000</td>\n",
       "      <td>0.050308</td>\n",
       "      <td>0.012179</td>\n",
       "      <td>...</td>\n",
       "      <td>0.000000</td>\n",
       "      <td>0.003636</td>\n",
       "      <td>0.000000</td>\n",
       "      <td>0.003120</td>\n",
       "      <td>0.000000</td>\n",
       "      <td>0.007467</td>\n",
       "      <td>0.000039</td>\n",
       "      <td>0.000000</td>\n",
       "      <td>0.000000</td>\n",
       "      <td>University of Toronto Axel Gunther</td>\n",
       "    </tr>\n",
       "    <tr>\n",
       "      <th>90956</th>\n",
       "      <td>2018-05-01</td>\n",
       "      <td>29662977</td>\n",
       "      <td>University of Toronto</td>\n",
       "      <td>Axel Gunther</td>\n",
       "      <td>First Corresponding author</td>\n",
       "      <td>6.1</td>\n",
       "      <td>lab on a chip</td>\n",
       "      <td>0.000571</td>\n",
       "      <td>0.013477</td>\n",
       "      <td>0.000000</td>\n",
       "      <td>...</td>\n",
       "      <td>0.006675</td>\n",
       "      <td>0.001329</td>\n",
       "      <td>0.000000</td>\n",
       "      <td>0.000000</td>\n",
       "      <td>0.000000</td>\n",
       "      <td>0.002163</td>\n",
       "      <td>0.001460</td>\n",
       "      <td>0.000000</td>\n",
       "      <td>0.004581</td>\n",
       "      <td>University of Toronto Axel Gunther</td>\n",
       "    </tr>\n",
       "    <tr>\n",
       "      <th>90957</th>\n",
       "      <td>2015-07-01</td>\n",
       "      <td>26016773</td>\n",
       "      <td>University of Toronto</td>\n",
       "      <td>Axel Gunther</td>\n",
       "      <td>Second Author</td>\n",
       "      <td>6.1</td>\n",
       "      <td>lab on a chip</td>\n",
       "      <td>0.000188</td>\n",
       "      <td>0.007121</td>\n",
       "      <td>0.000216</td>\n",
       "      <td>...</td>\n",
       "      <td>0.000000</td>\n",
       "      <td>0.000000</td>\n",
       "      <td>0.000000</td>\n",
       "      <td>0.001479</td>\n",
       "      <td>0.000000</td>\n",
       "      <td>0.006805</td>\n",
       "      <td>0.000000</td>\n",
       "      <td>0.001477</td>\n",
       "      <td>0.056860</td>\n",
       "      <td>University of Toronto Axel Gunther</td>\n",
       "    </tr>\n",
       "    <tr>\n",
       "      <th>90958</th>\n",
       "      <td>2015-06-01</td>\n",
       "      <td>25990299</td>\n",
       "      <td>University of Toronto</td>\n",
       "      <td>Axel Gunther</td>\n",
       "      <td>First Corresponding author</td>\n",
       "      <td>6.1</td>\n",
       "      <td>lab on a chip</td>\n",
       "      <td>0.002667</td>\n",
       "      <td>0.014137</td>\n",
       "      <td>0.000000</td>\n",
       "      <td>...</td>\n",
       "      <td>0.007087</td>\n",
       "      <td>0.000000</td>\n",
       "      <td>0.000640</td>\n",
       "      <td>0.000000</td>\n",
       "      <td>0.028441</td>\n",
       "      <td>0.000000</td>\n",
       "      <td>0.002747</td>\n",
       "      <td>0.000000</td>\n",
       "      <td>0.032079</td>\n",
       "      <td>University of Toronto Axel Gunther</td>\n",
       "    </tr>\n",
       "    <tr>\n",
       "      <th>90959</th>\n",
       "      <td>2014-08-01</td>\n",
       "      <td>25079335</td>\n",
       "      <td>University of Toronto</td>\n",
       "      <td>Axel Gunther</td>\n",
       "      <td>Second Corresponding author</td>\n",
       "      <td>14.4</td>\n",
       "      <td>journal of the american chemical society</td>\n",
       "      <td>0.000292</td>\n",
       "      <td>0.001312</td>\n",
       "      <td>0.000000</td>\n",
       "      <td>...</td>\n",
       "      <td>0.000596</td>\n",
       "      <td>0.000887</td>\n",
       "      <td>0.000000</td>\n",
       "      <td>0.000000</td>\n",
       "      <td>0.000230</td>\n",
       "      <td>0.004888</td>\n",
       "      <td>0.000000</td>\n",
       "      <td>0.002569</td>\n",
       "      <td>0.000948</td>\n",
       "      <td>University of Toronto Axel Gunther</td>\n",
       "    </tr>\n",
       "    <tr>\n",
       "      <th>90960</th>\n",
       "      <td>2014-07-01</td>\n",
       "      <td>24961230</td>\n",
       "      <td>University of Toronto</td>\n",
       "      <td>Axel Gunther</td>\n",
       "      <td>Second Author</td>\n",
       "      <td>16.1</td>\n",
       "      <td>angewandte chemie-international edition</td>\n",
       "      <td>0.000000</td>\n",
       "      <td>0.002091</td>\n",
       "      <td>0.000000</td>\n",
       "      <td>...</td>\n",
       "      <td>0.000000</td>\n",
       "      <td>0.000000</td>\n",
       "      <td>0.000254</td>\n",
       "      <td>0.000000</td>\n",
       "      <td>0.000000</td>\n",
       "      <td>0.000000</td>\n",
       "      <td>0.000000</td>\n",
       "      <td>0.009240</td>\n",
       "      <td>0.000554</td>\n",
       "      <td>University of Toronto Axel Gunther</td>\n",
       "    </tr>\n",
       "    <tr>\n",
       "      <th>90961</th>\n",
       "      <td>2014-07-01</td>\n",
       "      <td>24828153</td>\n",
       "      <td>University of Toronto</td>\n",
       "      <td>Axel Gunther</td>\n",
       "      <td>First Corresponding author</td>\n",
       "      <td>6.1</td>\n",
       "      <td>lab on a chip</td>\n",
       "      <td>0.001389</td>\n",
       "      <td>0.000000</td>\n",
       "      <td>0.000000</td>\n",
       "      <td>...</td>\n",
       "      <td>0.000000</td>\n",
       "      <td>0.000000</td>\n",
       "      <td>0.000000</td>\n",
       "      <td>0.000054</td>\n",
       "      <td>0.000541</td>\n",
       "      <td>0.004782</td>\n",
       "      <td>0.000000</td>\n",
       "      <td>0.000036</td>\n",
       "      <td>0.052745</td>\n",
       "      <td>University of Toronto Axel Gunther</td>\n",
       "    </tr>\n",
       "  </tbody>\n",
       "</table>\n",
       "<p>18 rows × 28 columns</p>\n",
       "</div>"
      ],
      "text/plain": [
       "      publish_date      PMID             university professor_name  \\\n",
       "90944   2021-04-01  33694327  University of Toronto   Axel Gunther   \n",
       "90945   2020-07-01  32685675  University of Toronto   Axel Gunther   \n",
       "90946   2020-02-01  32015225  University of Toronto   Axel Gunther   \n",
       "90947   2018-05-01  29662977  University of Toronto   Axel Gunther   \n",
       "90948   2015-07-01  26016773  University of Toronto   Axel Gunther   \n",
       "90949   2015-06-01  25990299  University of Toronto   Axel Gunther   \n",
       "90950   2014-08-01  25079335  University of Toronto   Axel Gunther   \n",
       "90951   2014-07-01  24961230  University of Toronto   Axel Gunther   \n",
       "90952   2014-07-01  24828153  University of Toronto   Axel Gunther   \n",
       "90953   2021-04-01  33694327  University of Toronto   Axel Gunther   \n",
       "90954   2020-07-01  32685675  University of Toronto   Axel Gunther   \n",
       "90955   2020-02-01  32015225  University of Toronto   Axel Gunther   \n",
       "90956   2018-05-01  29662977  University of Toronto   Axel Gunther   \n",
       "90957   2015-07-01  26016773  University of Toronto   Axel Gunther   \n",
       "90958   2015-06-01  25990299  University of Toronto   Axel Gunther   \n",
       "90959   2014-08-01  25079335  University of Toronto   Axel Gunther   \n",
       "90960   2014-07-01  24961230  University of Toronto   Axel Gunther   \n",
       "90961   2014-07-01  24828153  University of Toronto   Axel Gunther   \n",
       "\n",
       "              professor_authorship  journal_if  \\\n",
       "90944   First Corresponding author        10.0   \n",
       "90945   First Corresponding author         5.4   \n",
       "90946   First Corresponding author         8.2   \n",
       "90947   First Corresponding author         6.1   \n",
       "90948                Second Author         6.1   \n",
       "90949   First Corresponding author         6.1   \n",
       "90950  Second Corresponding author        14.4   \n",
       "90951                Second Author        16.1   \n",
       "90952   First Corresponding author         6.1   \n",
       "90953   First Corresponding author        10.0   \n",
       "90954   First Corresponding author         5.4   \n",
       "90955   First Corresponding author         8.2   \n",
       "90956   First Corresponding author         6.1   \n",
       "90957                Second Author         6.1   \n",
       "90958   First Corresponding author         6.1   \n",
       "90959  Second Corresponding author        14.4   \n",
       "90960                Second Author        16.1   \n",
       "90961   First Corresponding author         6.1   \n",
       "\n",
       "                            formal_journal_name         0         1         2  \\\n",
       "90944             advanced healthcare materials  0.000066  0.018509  0.000000   \n",
       "90945    acs biomaterials science & engineering  0.000000  0.008354  0.000000   \n",
       "90946                            biofabrication  0.000000  0.050308  0.012179   \n",
       "90947                             lab on a chip  0.000571  0.013477  0.000000   \n",
       "90948                             lab on a chip  0.000188  0.007121  0.000216   \n",
       "90949                             lab on a chip  0.002667  0.014137  0.000000   \n",
       "90950  journal of the american chemical society  0.000292  0.001312  0.000000   \n",
       "90951   angewandte chemie-international edition  0.000000  0.002091  0.000000   \n",
       "90952                             lab on a chip  0.001389  0.000000  0.000000   \n",
       "90953             advanced healthcare materials  0.000066  0.018509  0.000000   \n",
       "90954    acs biomaterials science & engineering  0.000000  0.008354  0.000000   \n",
       "90955                            biofabrication  0.000000  0.050308  0.012179   \n",
       "90956                             lab on a chip  0.000571  0.013477  0.000000   \n",
       "90957                             lab on a chip  0.000188  0.007121  0.000216   \n",
       "90958                             lab on a chip  0.002667  0.014137  0.000000   \n",
       "90959  journal of the american chemical society  0.000292  0.001312  0.000000   \n",
       "90960   angewandte chemie-international edition  0.000000  0.002091  0.000000   \n",
       "90961                             lab on a chip  0.001389  0.000000  0.000000   \n",
       "\n",
       "       ...        11        12        13        14        15        16  \\\n",
       "90944  ...  0.025689  0.000000  0.001581  0.000000  0.000000  0.005787   \n",
       "90945  ...  0.011267  0.004457  0.000024  0.000000  0.020075  0.001231   \n",
       "90946  ...  0.000000  0.003636  0.000000  0.003120  0.000000  0.007467   \n",
       "90947  ...  0.006675  0.001329  0.000000  0.000000  0.000000  0.002163   \n",
       "90948  ...  0.000000  0.000000  0.000000  0.001479  0.000000  0.006805   \n",
       "90949  ...  0.007087  0.000000  0.000640  0.000000  0.028441  0.000000   \n",
       "90950  ...  0.000596  0.000887  0.000000  0.000000  0.000230  0.004888   \n",
       "90951  ...  0.000000  0.000000  0.000254  0.000000  0.000000  0.000000   \n",
       "90952  ...  0.000000  0.000000  0.000000  0.000054  0.000541  0.004782   \n",
       "90953  ...  0.025689  0.000000  0.001581  0.000000  0.000000  0.005787   \n",
       "90954  ...  0.011267  0.004457  0.000024  0.000000  0.020075  0.001231   \n",
       "90955  ...  0.000000  0.003636  0.000000  0.003120  0.000000  0.007467   \n",
       "90956  ...  0.006675  0.001329  0.000000  0.000000  0.000000  0.002163   \n",
       "90957  ...  0.000000  0.000000  0.000000  0.001479  0.000000  0.006805   \n",
       "90958  ...  0.007087  0.000000  0.000640  0.000000  0.028441  0.000000   \n",
       "90959  ...  0.000596  0.000887  0.000000  0.000000  0.000230  0.004888   \n",
       "90960  ...  0.000000  0.000000  0.000254  0.000000  0.000000  0.000000   \n",
       "90961  ...  0.000000  0.000000  0.000000  0.000054  0.000541  0.004782   \n",
       "\n",
       "             17        18        19               unique_professor_name  \n",
       "90944  0.000000  0.001176  0.005305  University of Toronto Axel Gunther  \n",
       "90945  0.000155  0.000000  0.001232  University of Toronto Axel Gunther  \n",
       "90946  0.000039  0.000000  0.000000  University of Toronto Axel Gunther  \n",
       "90947  0.001460  0.000000  0.004581  University of Toronto Axel Gunther  \n",
       "90948  0.000000  0.001477  0.056860  University of Toronto Axel Gunther  \n",
       "90949  0.002747  0.000000  0.032079  University of Toronto Axel Gunther  \n",
       "90950  0.000000  0.002569  0.000948  University of Toronto Axel Gunther  \n",
       "90951  0.000000  0.009240  0.000554  University of Toronto Axel Gunther  \n",
       "90952  0.000000  0.000036  0.052745  University of Toronto Axel Gunther  \n",
       "90953  0.000000  0.001176  0.005305  University of Toronto Axel Gunther  \n",
       "90954  0.000155  0.000000  0.001232  University of Toronto Axel Gunther  \n",
       "90955  0.000039  0.000000  0.000000  University of Toronto Axel Gunther  \n",
       "90956  0.001460  0.000000  0.004581  University of Toronto Axel Gunther  \n",
       "90957  0.000000  0.001477  0.056860  University of Toronto Axel Gunther  \n",
       "90958  0.002747  0.000000  0.032079  University of Toronto Axel Gunther  \n",
       "90959  0.000000  0.002569  0.000948  University of Toronto Axel Gunther  \n",
       "90960  0.000000  0.009240  0.000554  University of Toronto Axel Gunther  \n",
       "90961  0.000000  0.000036  0.052745  University of Toronto Axel Gunther  \n",
       "\n",
       "[18 rows x 28 columns]"
      ]
     },
     "execution_count": 114,
     "metadata": {},
     "output_type": "execute_result"
    }
   ],
   "source": [
    "paper_df"
   ]
  },
  {
   "cell_type": "code",
   "execution_count": null,
   "metadata": {},
   "outputs": [],
   "source": []
  }
 ],
 "metadata": {
  "kernelspec": {
   "display_name": "Python 3",
   "language": "python",
   "name": "python3"
  },
  "language_info": {
   "codemirror_mode": {
    "name": "ipython",
    "version": 3
   },
   "file_extension": ".py",
   "mimetype": "text/x-python",
   "name": "python",
   "nbconvert_exporter": "python",
   "pygments_lexer": "ipython3",
   "version": "3.11.5"
  }
 },
 "nbformat": 4,
 "nbformat_minor": 2
}
